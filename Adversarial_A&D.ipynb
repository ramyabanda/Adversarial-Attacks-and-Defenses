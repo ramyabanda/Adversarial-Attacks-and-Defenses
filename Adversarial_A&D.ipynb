{
  "nbformat": 4,
  "nbformat_minor": 0,
  "metadata": {
    "colab": {
      "name": "Project 4 Code.ipynb",
      "provenance": [],
      "collapsed_sections": []
    },
    "kernelspec": {
      "name": "python2",
      "display_name": "Python 2"
    },
    "accelerator": "GPU"
  },
  "cells": [
    {
      "cell_type": "markdown",
      "metadata": {
        "colab_type": "text",
        "id": "NiZYmbLsCx8C"
      },
      "source": [
        "#Name: Ramya Banda\n",
        "#ECE 595 Machine Learning II\n",
        "#Project 4: Adversarial Machine Learning - Code"
      ]
    },
    {
      "cell_type": "code",
      "metadata": {
        "id": "2G6Pmc71WAZa",
        "colab_type": "code",
        "colab": {
          "base_uri": "https://localhost:8080/",
          "height": 306
        },
        "outputId": "3acacf63-730f-4bfb-a85c-2a9dd65b4c38"
      },
      "source": [
        "!nvidia-smi"
      ],
      "execution_count": null,
      "outputs": [
        {
          "output_type": "stream",
          "text": [
            "Wed Nov 13 00:13:44 2019       \n",
            "+-----------------------------------------------------------------------------+\n",
            "| NVIDIA-SMI 430.50       Driver Version: 418.67       CUDA Version: 10.1     |\n",
            "|-------------------------------+----------------------+----------------------+\n",
            "| GPU  Name        Persistence-M| Bus-Id        Disp.A | Volatile Uncorr. ECC |\n",
            "| Fan  Temp  Perf  Pwr:Usage/Cap|         Memory-Usage | GPU-Util  Compute M. |\n",
            "|===============================+======================+======================|\n",
            "|   0  Tesla P100-PCIE...  Off  | 00000000:00:04.0 Off |                    0 |\n",
            "| N/A   35C    P0    27W / 250W |      0MiB / 16280MiB |      0%      Default |\n",
            "+-------------------------------+----------------------+----------------------+\n",
            "                                                                               \n",
            "+-----------------------------------------------------------------------------+\n",
            "| Processes:                                                       GPU Memory |\n",
            "|  GPU       PID   Type   Process name                             Usage      |\n",
            "|=============================================================================|\n",
            "|  No running processes found                                                 |\n",
            "+-----------------------------------------------------------------------------+\n"
          ],
          "name": "stdout"
        }
      ]
    },
    {
      "cell_type": "code",
      "metadata": {
        "id": "ZH3b6I2oq_6i",
        "colab_type": "code",
        "colab": {
          "base_uri": "https://localhost:8080/",
          "height": 360
        },
        "outputId": "48313075-0e8c-481d-fc69-7b4b957f6c1a"
      },
      "source": [
        "\n",
        "!pip install cleverhans==2.1.0"
      ],
      "execution_count": null,
      "outputs": [
        {
          "output_type": "stream",
          "text": [
            "Requirement already satisfied: cleverhans==2.1.0 in /usr/local/lib/python2.7/dist-packages (2.1.0)\n",
            "Requirement already satisfied: numpy in /usr/local/lib/python2.7/dist-packages (from cleverhans==2.1.0) (1.16.4)\n",
            "Requirement already satisfied: pycodestyle in /usr/local/lib/python2.7/dist-packages (from cleverhans==2.1.0) (2.5.0)\n",
            "Requirement already satisfied: matplotlib in /usr/local/lib/python2.7/dist-packages (from cleverhans==2.1.0) (2.2.4)\n",
            "Requirement already satisfied: nose in /usr/local/lib/python2.7/dist-packages (from cleverhans==2.1.0) (1.3.7)\n",
            "Requirement already satisfied: scipy in /usr/local/lib/python2.7/dist-packages (from cleverhans==2.1.0) (1.2.2)\n",
            "Requirement already satisfied: mnist~=0.2 in /usr/local/lib/python2.7/dist-packages (from cleverhans==2.1.0) (0.2.2)\n",
            "Requirement already satisfied: cycler>=0.10 in /usr/local/lib/python2.7/dist-packages (from matplotlib->cleverhans==2.1.0) (0.10.0)\n",
            "Requirement already satisfied: backports.functools-lru-cache in /usr/local/lib/python2.7/dist-packages (from matplotlib->cleverhans==2.1.0) (1.5)\n",
            "Requirement already satisfied: subprocess32 in /usr/local/lib/python2.7/dist-packages (from matplotlib->cleverhans==2.1.0) (3.5.4)\n",
            "Requirement already satisfied: kiwisolver>=1.0.1 in /usr/local/lib/python2.7/dist-packages (from matplotlib->cleverhans==2.1.0) (1.1.0)\n",
            "Requirement already satisfied: pytz in /usr/local/lib/python2.7/dist-packages (from matplotlib->cleverhans==2.1.0) (2018.9)\n",
            "Requirement already satisfied: six>=1.10 in /usr/local/lib/python2.7/dist-packages (from matplotlib->cleverhans==2.1.0) (1.12.0)\n",
            "Requirement already satisfied: python-dateutil>=2.1 in /usr/local/lib/python2.7/dist-packages (from matplotlib->cleverhans==2.1.0) (2.5.3)\n",
            "Requirement already satisfied: pyparsing!=2.0.4,!=2.1.2,!=2.1.6,>=2.0.1 in /usr/local/lib/python2.7/dist-packages (from matplotlib->cleverhans==2.1.0) (2.4.0)\n",
            "Requirement already satisfied: mock; python_version == \"2.7\" in /usr/local/lib/python2.7/dist-packages (from mnist~=0.2->cleverhans==2.1.0) (2.0.0)\n",
            "Requirement already satisfied: setuptools in /usr/local/lib/python2.7/dist-packages (from kiwisolver>=1.0.1->matplotlib->cleverhans==2.1.0) (41.4.0)\n",
            "Requirement already satisfied: funcsigs>=1; python_version < \"3.3\" in /usr/local/lib/python2.7/dist-packages (from mock; python_version == \"2.7\"->mnist~=0.2->cleverhans==2.1.0) (1.0.2)\n",
            "Requirement already satisfied: pbr>=0.11 in /usr/local/lib/python2.7/dist-packages (from mock; python_version == \"2.7\"->mnist~=0.2->cleverhans==2.1.0) (5.4.0)\n"
          ],
          "name": "stdout"
        }
      ]
    },
    {
      "cell_type": "code",
      "metadata": {
        "id": "mVKiKyxvrDio",
        "colab_type": "code",
        "colab": {
          "base_uri": "https://localhost:8080/",
          "height": 80
        },
        "outputId": "5d5fe43b-002d-4d50-9c58-47639631862d"
      },
      "source": [
        "#Import necessary packages\n",
        "from keras.datasets import mnist\n",
        "from keras import Sequential\n",
        "from keras.layers import Dense, BatchNormalization\n",
        "from keras import backend\n",
        "import keras\n",
        "import tensorflow as tf\n",
        "import numpy as np\n",
        "import matplotlib.pyplot as plt\n",
        "from sklearn.decomposition import PCA\n",
        "from cleverhans.utils_keras import KerasModelWrapper\n",
        "from cleverhans.attacks import FastGradientMethod, MadryEtAl, DeepFool, CarliniWagnerL2"
      ],
      "execution_count": null,
      "outputs": [
        {
          "output_type": "stream",
          "text": [
            "Using TensorFlow backend.\n"
          ],
          "name": "stderr"
        },
        {
          "output_type": "display_data",
          "data": {
            "text/plain": [
              "<IPython.core.display.HTML object>"
            ],
            "text/html": [
              "<p style=\"color: red;\">\n",
              "The default version of TensorFlow in Colab will soon switch to TensorFlow 2.x.<br>\n",
              "We recommend you <a href=\"https://www.tensorflow.org/guide/migrate\" target=\"_blank\">upgrade</a> now \n",
              "or ensure your notebook will continue to use TensorFlow 1.x via the <code>%tensorflow_version 1.x</code> magic:\n",
              "<a href=\"https://colab.research.google.com/notebooks/tensorflow_version.ipynb\" target=\"_blank\">more info</a>.</p>\n"
            ]
          },
          "metadata": {
            "tags": []
          }
        }
      ]
    },
    {
      "cell_type": "markdown",
      "metadata": {
        "id": "AR7lUPK3rL3d",
        "colab_type": "text"
      },
      "source": [
        "#Part 1: Training a target classifier"
      ]
    },
    {
      "cell_type": "code",
      "metadata": {
        "id": "dRvltpU9rMZp",
        "colab_type": "code",
        "colab": {
          "base_uri": "https://localhost:8080/",
          "height": 1000
        },
        "outputId": "2cdbbb93-c65d-4949-d9a6-22a009e21c41"
      },
      "source": [
        "# Load data MNIST data and normalize to [0, 1]\n",
        "\n",
        "(data_train,labels_train),(data_test,labels_test) = mnist.load_data( )\n",
        "data_train = (data_train/255.0)\n",
        "data_test = (data_test/255.0)\n",
        "#Reshape training and testing data into 784-dimensional vectors \n",
        "\n",
        "print(data_train.shape)\n",
        "data_train = data_train.reshape(60000, 784)\n",
        "data_test = data_test.reshape(10000, 784)\n",
        "print(data_train.shape)\n",
        "#Convert integer labels for training and testing data into one-hot vectors \n",
        "\n",
        "labels_train= keras.utils.np_utils.to_categorical(labels_train,num_classes=10)\n",
        "labels_test= keras.utils.np_utils.to_categorical(labels_test,num_classes=10)\n",
        "print(labels_train.shape)\n",
        "#Create classifier architecture, compile it, and train it\n",
        "\n",
        "latent_dim = 784\n",
        "data_dim = 10\n",
        "\n",
        "def create_classifier():\n",
        "\n",
        "  classifier=Sequential()\n",
        "  classifier.add(Dense(100,input_dim=784,activation=\"relu\"))\n",
        "  classifier.add(BatchNormalization())\n",
        "  classifier.add(Dense(100,activation=\"relu\"))\n",
        "  classifier.add(BatchNormalization())\n",
        "  classifier.add(Dense(10, activation=\"softmax\"))\n",
        "  return classifier\n",
        "\n",
        "\n",
        "classifier = create_classifier()\n",
        "classifier.summary()\n",
        "classifier.compile(loss=\"categorical_crossentropy\",optimizer=\"adam\", metrics = [\"accuracy\"])\n",
        "num_epochs = 50\n",
        "batch_size = 256\n",
        "classifier_history=classifier.fit(data_train,labels_train,validation_data=(data_test,labels_test),epochs=num_epochs,batch_size=batch_size,shuffle=True)\n",
        "scores = classifier.evaluate(data_test, labels_test)"
      ],
      "execution_count": null,
      "outputs": [
        {
          "output_type": "stream",
          "text": [
            "WARNING: Logging before flag parsing goes to stderr.\n",
            "W1113 00:13:56.963793 140568910866304 module_wrapper.py:139] From /usr/local/lib/python2.7/dist-packages/keras/backend/tensorflow_backend.py:74: The name tf.get_default_graph is deprecated. Please use tf.compat.v1.get_default_graph instead.\n",
            "\n",
            "W1113 00:13:56.970455 140568910866304 module_wrapper.py:139] From /usr/local/lib/python2.7/dist-packages/keras/backend/tensorflow_backend.py:517: The name tf.placeholder is deprecated. Please use tf.compat.v1.placeholder instead.\n",
            "\n",
            "W1113 00:13:56.976870 140568910866304 module_wrapper.py:139] From /usr/local/lib/python2.7/dist-packages/keras/backend/tensorflow_backend.py:4138: The name tf.random_uniform is deprecated. Please use tf.random.uniform instead.\n",
            "\n",
            "W1113 00:13:57.057754 140568910866304 module_wrapper.py:139] From /usr/local/lib/python2.7/dist-packages/keras/backend/tensorflow_backend.py:133: The name tf.placeholder_with_default is deprecated. Please use tf.compat.v1.placeholder_with_default instead.\n",
            "\n",
            "W1113 00:13:57.141688 140568910866304 module_wrapper.py:139] From /usr/local/lib/python2.7/dist-packages/keras/optimizers.py:790: The name tf.train.Optimizer is deprecated. Please use tf.compat.v1.train.Optimizer instead.\n",
            "\n",
            "W1113 00:13:57.157763 140568910866304 module_wrapper.py:139] From /usr/local/lib/python2.7/dist-packages/keras/backend/tensorflow_backend.py:3295: The name tf.log is deprecated. Please use tf.math.log instead.\n",
            "\n"
          ],
          "name": "stderr"
        },
        {
          "output_type": "stream",
          "text": [
            "(60000, 28, 28)\n",
            "(60000, 784)\n",
            "(60000, 10)\n",
            "_________________________________________________________________\n",
            "Layer (type)                 Output Shape              Param #   \n",
            "=================================================================\n",
            "dense_1 (Dense)              (None, 100)               78500     \n",
            "_________________________________________________________________\n",
            "batch_normalization_1 (Batch (None, 100)               400       \n",
            "_________________________________________________________________\n",
            "dense_2 (Dense)              (None, 100)               10100     \n",
            "_________________________________________________________________\n",
            "batch_normalization_2 (Batch (None, 100)               400       \n",
            "_________________________________________________________________\n",
            "dense_3 (Dense)              (None, 10)                1010      \n",
            "=================================================================\n",
            "Total params: 90,410\n",
            "Trainable params: 90,010\n",
            "Non-trainable params: 400\n",
            "_________________________________________________________________\n"
          ],
          "name": "stdout"
        },
        {
          "output_type": "stream",
          "text": [
            "W1113 00:13:57.246155 140568910866304 deprecation.py:323] From /usr/local/lib/python2.7/dist-packages/tensorflow_core/python/ops/math_grad.py:1424: where (from tensorflow.python.ops.array_ops) is deprecated and will be removed in a future version.\n",
            "Instructions for updating:\n",
            "Use tf.where in 2.0, which has the same broadcast rule as np.where\n",
            "W1113 00:13:57.449676 140568910866304 module_wrapper.py:139] From /usr/local/lib/python2.7/dist-packages/keras/backend/tensorflow_backend.py:986: The name tf.assign_add is deprecated. Please use tf.compat.v1.assign_add instead.\n",
            "\n",
            "W1113 00:13:57.543714 140568910866304 module_wrapper.py:139] From /usr/local/lib/python2.7/dist-packages/keras/backend/tensorflow_backend.py:973: The name tf.assign is deprecated. Please use tf.compat.v1.assign instead.\n",
            "\n",
            "W1113 00:13:57.632396 140568910866304 module_wrapper.py:139] From /usr/local/lib/python2.7/dist-packages/keras/backend/tensorflow_backend.py:2741: The name tf.Session is deprecated. Please use tf.compat.v1.Session instead.\n",
            "\n",
            "W1113 00:13:57.639662 140568910866304 module_wrapper.py:139] From /usr/local/lib/python2.7/dist-packages/keras/backend/tensorflow_backend.py:174: The name tf.get_default_session is deprecated. Please use tf.compat.v1.get_default_session instead.\n",
            "\n",
            "W1113 00:13:57.640692 140568910866304 module_wrapper.py:139] From /usr/local/lib/python2.7/dist-packages/keras/backend/tensorflow_backend.py:181: The name tf.ConfigProto is deprecated. Please use tf.compat.v1.ConfigProto instead.\n",
            "\n"
          ],
          "name": "stderr"
        },
        {
          "output_type": "stream",
          "text": [
            "Train on 60000 samples, validate on 10000 samples\n",
            "Epoch 1/50\n"
          ],
          "name": "stdout"
        },
        {
          "output_type": "stream",
          "text": [
            "W1113 00:13:58.905534 140568910866304 module_wrapper.py:139] From /usr/local/lib/python2.7/dist-packages/keras/backend/tensorflow_backend.py:190: The name tf.global_variables is deprecated. Please use tf.compat.v1.global_variables instead.\n",
            "\n",
            "W1113 00:13:58.909976 140568910866304 module_wrapper.py:139] From /usr/local/lib/python2.7/dist-packages/keras/backend/tensorflow_backend.py:199: The name tf.is_variable_initialized is deprecated. Please use tf.compat.v1.is_variable_initialized instead.\n",
            "\n",
            "W1113 00:13:59.083713 140568910866304 module_wrapper.py:139] From /usr/local/lib/python2.7/dist-packages/keras/backend/tensorflow_backend.py:206: The name tf.variables_initializer is deprecated. Please use tf.compat.v1.variables_initializer instead.\n",
            "\n"
          ],
          "name": "stderr"
        },
        {
          "output_type": "stream",
          "text": [
            "60000/60000 [==============================] - 6s 97us/step - loss: 0.3104 - acc: 0.9094 - val_loss: 0.1511 - val_acc: 0.9549\n",
            "Epoch 2/50\n",
            "60000/60000 [==============================] - 2s 27us/step - loss: 0.1179 - acc: 0.9654 - val_loss: 0.1162 - val_acc: 0.9646\n",
            "Epoch 3/50\n",
            "60000/60000 [==============================] - 2s 28us/step - loss: 0.0800 - acc: 0.9758 - val_loss: 0.0963 - val_acc: 0.9704\n",
            "Epoch 4/50\n",
            "60000/60000 [==============================] - 2s 29us/step - loss: 0.0586 - acc: 0.9822 - val_loss: 0.0963 - val_acc: 0.9690\n",
            "Epoch 5/50\n",
            "60000/60000 [==============================] - 2s 28us/step - loss: 0.0434 - acc: 0.9877 - val_loss: 0.0821 - val_acc: 0.9750\n",
            "Epoch 6/50\n",
            "60000/60000 [==============================] - 2s 27us/step - loss: 0.0334 - acc: 0.9905 - val_loss: 0.0874 - val_acc: 0.9716\n",
            "Epoch 7/50\n",
            "60000/60000 [==============================] - 2s 27us/step - loss: 0.0265 - acc: 0.9922 - val_loss: 0.0886 - val_acc: 0.9724\n",
            "Epoch 8/50\n",
            "60000/60000 [==============================] - 2s 28us/step - loss: 0.0215 - acc: 0.9939 - val_loss: 0.0876 - val_acc: 0.9746\n",
            "Epoch 9/50\n",
            "60000/60000 [==============================] - 2s 27us/step - loss: 0.0182 - acc: 0.9948 - val_loss: 0.0815 - val_acc: 0.9767\n",
            "Epoch 10/50\n",
            "60000/60000 [==============================] - 2s 28us/step - loss: 0.0152 - acc: 0.9957 - val_loss: 0.0875 - val_acc: 0.9759\n",
            "Epoch 11/50\n",
            "60000/60000 [==============================] - 2s 27us/step - loss: 0.0121 - acc: 0.9966 - val_loss: 0.0869 - val_acc: 0.9770\n",
            "Epoch 12/50\n",
            "60000/60000 [==============================] - 2s 28us/step - loss: 0.0109 - acc: 0.9970 - val_loss: 0.0887 - val_acc: 0.9762\n",
            "Epoch 13/50\n",
            "60000/60000 [==============================] - 2s 29us/step - loss: 0.0099 - acc: 0.9971 - val_loss: 0.0930 - val_acc: 0.9749\n",
            "Epoch 14/50\n",
            "60000/60000 [==============================] - 2s 28us/step - loss: 0.0096 - acc: 0.9974 - val_loss: 0.0953 - val_acc: 0.9734\n",
            "Epoch 15/50\n",
            "60000/60000 [==============================] - 2s 28us/step - loss: 0.0080 - acc: 0.9980 - val_loss: 0.0921 - val_acc: 0.9763\n",
            "Epoch 16/50\n",
            "60000/60000 [==============================] - 2s 28us/step - loss: 0.0084 - acc: 0.9977 - val_loss: 0.0887 - val_acc: 0.9775\n",
            "Epoch 17/50\n",
            "60000/60000 [==============================] - 2s 29us/step - loss: 0.0071 - acc: 0.9979 - val_loss: 0.0911 - val_acc: 0.9772\n",
            "Epoch 18/50\n",
            "60000/60000 [==============================] - 2s 29us/step - loss: 0.0087 - acc: 0.9971 - val_loss: 0.0984 - val_acc: 0.9768\n",
            "Epoch 19/50\n",
            "60000/60000 [==============================] - 2s 27us/step - loss: 0.0086 - acc: 0.9973 - val_loss: 0.0928 - val_acc: 0.9764\n",
            "Epoch 20/50\n",
            "60000/60000 [==============================] - 2s 28us/step - loss: 0.0064 - acc: 0.9982 - val_loss: 0.0962 - val_acc: 0.9774\n",
            "Epoch 21/50\n",
            "60000/60000 [==============================] - 2s 28us/step - loss: 0.0050 - acc: 0.9985 - val_loss: 0.0983 - val_acc: 0.9776\n",
            "Epoch 22/50\n",
            "60000/60000 [==============================] - 2s 28us/step - loss: 0.0060 - acc: 0.9983 - val_loss: 0.1047 - val_acc: 0.9763\n",
            "Epoch 23/50\n",
            "60000/60000 [==============================] - 2s 27us/step - loss: 0.0062 - acc: 0.9982 - val_loss: 0.1050 - val_acc: 0.9762\n",
            "Epoch 24/50\n",
            "60000/60000 [==============================] - 2s 28us/step - loss: 0.0065 - acc: 0.9979 - val_loss: 0.0971 - val_acc: 0.9781\n",
            "Epoch 25/50\n",
            "60000/60000 [==============================] - 2s 28us/step - loss: 0.0061 - acc: 0.9981 - val_loss: 0.1098 - val_acc: 0.9762\n",
            "Epoch 26/50\n",
            "60000/60000 [==============================] - 2s 29us/step - loss: 0.0063 - acc: 0.9980 - val_loss: 0.0989 - val_acc: 0.9775\n",
            "Epoch 27/50\n",
            "60000/60000 [==============================] - 2s 28us/step - loss: 0.0035 - acc: 0.9991 - val_loss: 0.0999 - val_acc: 0.9774\n",
            "Epoch 28/50\n",
            "60000/60000 [==============================] - 2s 29us/step - loss: 0.0031 - acc: 0.9993 - val_loss: 0.1050 - val_acc: 0.9772\n",
            "Epoch 29/50\n",
            "60000/60000 [==============================] - 2s 28us/step - loss: 0.0029 - acc: 0.9992 - val_loss: 0.0997 - val_acc: 0.9762\n",
            "Epoch 30/50\n",
            "60000/60000 [==============================] - 2s 30us/step - loss: 0.0039 - acc: 0.9989 - val_loss: 0.1048 - val_acc: 0.9764\n",
            "Epoch 31/50\n",
            "60000/60000 [==============================] - 2s 31us/step - loss: 0.0094 - acc: 0.9967 - val_loss: 0.1101 - val_acc: 0.9764\n",
            "Epoch 32/50\n",
            "60000/60000 [==============================] - 2s 29us/step - loss: 0.0075 - acc: 0.9974 - val_loss: 0.1087 - val_acc: 0.9751\n",
            "Epoch 33/50\n",
            "60000/60000 [==============================] - 2s 29us/step - loss: 0.0045 - acc: 0.9986 - val_loss: 0.0894 - val_acc: 0.9804\n",
            "Epoch 34/50\n",
            "60000/60000 [==============================] - 2s 29us/step - loss: 0.0019 - acc: 0.9995 - val_loss: 0.0991 - val_acc: 0.9790\n",
            "Epoch 35/50\n",
            "60000/60000 [==============================] - 2s 28us/step - loss: 0.0021 - acc: 0.9995 - val_loss: 0.1016 - val_acc: 0.9776\n",
            "Epoch 36/50\n",
            "60000/60000 [==============================] - 2s 29us/step - loss: 0.0014 - acc: 0.9997 - val_loss: 0.1028 - val_acc: 0.9785\n",
            "Epoch 37/50\n",
            "60000/60000 [==============================] - 2s 28us/step - loss: 0.0031 - acc: 0.9991 - val_loss: 0.1008 - val_acc: 0.9788\n",
            "Epoch 38/50\n",
            "60000/60000 [==============================] - 2s 28us/step - loss: 0.0046 - acc: 0.9983 - val_loss: 0.1120 - val_acc: 0.9773\n",
            "Epoch 39/50\n",
            "60000/60000 [==============================] - 2s 28us/step - loss: 0.0082 - acc: 0.9973 - val_loss: 0.1262 - val_acc: 0.9728\n",
            "Epoch 40/50\n",
            "60000/60000 [==============================] - 2s 28us/step - loss: 0.0054 - acc: 0.9983 - val_loss: 0.1102 - val_acc: 0.9777\n",
            "Epoch 41/50\n",
            "60000/60000 [==============================] - 2s 29us/step - loss: 0.0047 - acc: 0.9986 - val_loss: 0.1013 - val_acc: 0.9788\n",
            "Epoch 42/50\n",
            "60000/60000 [==============================] - 2s 29us/step - loss: 0.0026 - acc: 0.9992 - val_loss: 0.0924 - val_acc: 0.9806\n",
            "Epoch 43/50\n",
            "60000/60000 [==============================] - 2s 28us/step - loss: 0.0011 - acc: 0.9998 - val_loss: 0.0918 - val_acc: 0.9800\n",
            "Epoch 44/50\n",
            "60000/60000 [==============================] - 2s 27us/step - loss: 5.4703e-04 - acc: 1.0000 - val_loss: 0.0906 - val_acc: 0.9806\n",
            "Epoch 45/50\n",
            "60000/60000 [==============================] - 2s 28us/step - loss: 4.7790e-04 - acc: 0.9999 - val_loss: 0.0962 - val_acc: 0.9795\n",
            "Epoch 46/50\n",
            "60000/60000 [==============================] - 2s 28us/step - loss: 6.6170e-04 - acc: 0.9999 - val_loss: 0.0968 - val_acc: 0.9791\n",
            "Epoch 47/50\n",
            "60000/60000 [==============================] - 2s 29us/step - loss: 6.4007e-04 - acc: 0.9999 - val_loss: 0.1006 - val_acc: 0.9787\n",
            "Epoch 48/50\n",
            "60000/60000 [==============================] - 2s 28us/step - loss: 0.0043 - acc: 0.9986 - val_loss: 0.1607 - val_acc: 0.9696\n",
            "Epoch 49/50\n",
            "60000/60000 [==============================] - 2s 27us/step - loss: 0.0151 - acc: 0.9947 - val_loss: 0.1218 - val_acc: 0.9750\n",
            "Epoch 50/50\n",
            "60000/60000 [==============================] - 2s 28us/step - loss: 0.0054 - acc: 0.9981 - val_loss: 0.1015 - val_acc: 0.9784\n",
            "10000/10000 [==============================] - 1s 51us/step\n"
          ],
          "name": "stdout"
        }
      ]
    },
    {
      "cell_type": "code",
      "metadata": {
        "id": "uOsXwFOvrs14",
        "colab_type": "code",
        "colab": {
          "base_uri": "https://localhost:8080/",
          "height": 553
        },
        "outputId": "cb65564f-7725-4a9a-9b67-8154ddf289b0"
      },
      "source": [
        "#Plot loss vs epoch\n",
        "\n",
        "plt.plot(classifier_history.history[\"loss\"])\n",
        "plt.plot(classifier_history.history[\"val_loss\"])\n",
        "plt.title(\"Loss vs. Epoch\")\n",
        "plt.ylabel(\"loss\")\n",
        "plt.xlabel(\"epoch\")\n",
        "plt.legend([\"train\", \"test\"],loc = \"upperleft\")\n",
        "plt.show( )"
      ],
      "execution_count": null,
      "outputs": [
        {
          "output_type": "stream",
          "text": [
            "/usr/local/lib/python2.7/dist-packages/matplotlib/legend.py:640: UserWarning: Unrecognized location \"upperleft\". Falling back on \"best\"; valid locations are\n",
            "\tright\n",
            "\tcenter left\n",
            "\tupper right\n",
            "\tlower right\n",
            "\tbest\n",
            "\tcenter\n",
            "\tlower left\n",
            "\tcenter right\n",
            "\tupper left\n",
            "\tupper center\n",
            "\tlower center\n",
            "\n",
            "  % (loc, '\\n\\t'.join(self.codes)))\n"
          ],
          "name": "stderr"
        },
        {
          "output_type": "display_data",
          "data": {
            "image/png": "[encoded data removed]",
            "text/plain": [
              "<Figure size 432x288 with 1 Axes>"
            ]
          },
          "metadata": {
            "tags": []
          }
        }
      ]
    },
    {
      "cell_type": "code",
      "metadata": {
        "id": "4C4mOVvSr4KP",
        "colab_type": "code",
        "colab": {
          "base_uri": "https://localhost:8080/",
          "height": 295
        },
        "outputId": "b6647f54-53bc-4684-f9ea-b7c2cdb46c38"
      },
      "source": [
        "#Plot accuracy vs epoch\n",
        "\n",
        "plt.plot(classifier_history.history[\"acc\"])\n",
        "plt.plot(classifier_history.history[\"val_acc\"])\n",
        "plt.title(\"CNN Accuracy vs.Epoch\")\n",
        "plt.ylabel(\"Accuracy\")\n",
        "plt.xlabel(\"Epoch\")\n",
        "plt.legend([\"train\", \"test\"], loc = \"upperleft\")\n",
        "plt.show( )"
      ],
      "execution_count": null,
      "outputs": [
        {
          "output_type": "display_data",
          "data": {
            "image/png": "[encoded data removed]",
            "text/plain": [
              "<Figure size 432x288 with 1 Axes>"
            ]
          },
          "metadata": {
            "tags": []
          }
        }
      ]
    },
    {
      "cell_type": "code",
      "metadata": {
        "id": "gr53zDpTr5wO",
        "colab_type": "code",
        "colab": {
          "base_uri": "https://localhost:8080/",
          "height": 34
        },
        "outputId": "4c77a8e3-f978-49db-ba2d-d21b417bbe7c"
      },
      "source": [
        "#Print accuracy of classifier on MNIST testing data\n",
        "\n",
        "print(\"Accuracy : %.2f%%\" % (scores[1]*100))\n"
      ],
      "execution_count": null,
      "outputs": [
        {
          "output_type": "stream",
          "text": [
            "Accuracy : 97.84%\n"
          ],
          "name": "stdout"
        }
      ]
    },
    {
      "cell_type": "code",
      "metadata": {
        "id": "YEcrqpjas3Xh",
        "colab_type": "code",
        "colab": {}
      },
      "source": [
        "\n",
        "#Get TensorFlow Session to pass into Cleverhans modules\n",
        "sess = backend.get_session()\n",
        "\n",
        "#Create wrapper for classifier model so that it can be passed into Cleverhans modules\n",
        "wrap = KerasModelWrapper(classifier)"
      ],
      "execution_count": null,
      "outputs": []
    },
    {
      "cell_type": "markdown",
      "metadata": {
        "id": "8_Ehc7tas5YS",
        "colab_type": "text"
      },
      "source": [
        "#Part 2: The Fast Gradient Method (FGM)"
      ]
    },
    {
      "cell_type": "code",
      "metadata": {
        "id": "GA5T9mkws9vJ",
        "colab_type": "code",
        "colab": {
          "base_uri": "https://localhost:8080/",
          "height": 394
        },
        "outputId": "e114e607-5517-4691-d445-f9126b641269"
      },
      "source": [
        "#Implementing the FGSM attack\n",
        "\n",
        "#FGM Instance on trained classifier from Part 1\n",
        "\n",
        "fgm = FastGradientMethod(wrap , sess=sess)\n",
        "\n",
        "#Attack parameters\n",
        "\n",
        "fgm_params = {'eps':0.25, 'clip_min':0.0,'clip_max':1.0}\n",
        "\n",
        "#Generate adversarial data\n",
        "\n",
        "fgm_attack_data_test = fgm.generate_np(data_test, **fgm_params)\n",
        "\n",
        "#Evaluate accuracy on target classifier \n",
        "\n",
        "fgm_adv_scores = classifier.evaluate(fgm_attack_data_test, labels_test)\n",
        "print(\"FGM Adverserial Attack Accuracy: %2f%%\" %(fgm_adv_scores[1]*100))\n"
      ],
      "execution_count": null,
      "outputs": [
        {
          "output_type": "stream",
          "text": [
            "W1112 22:10:22.693730 140144865326976 module_wrapper.py:139] From /usr/local/lib/python2.7/dist-packages/cleverhans/utils_tf.py:368: The name tf.GraphKeys is deprecated. Please use tf.compat.v1.GraphKeys instead.\n",
            "\n",
            "W1112 22:10:22.805969 140144865326976 deprecation.py:506] From /usr/local/lib/python2.7/dist-packages/cleverhans/attacks.py:216: calling reduce_max_v1 (from tensorflow.python.ops.math_ops) with keep_dims is deprecated and will be removed in a future version.\n",
            "Instructions for updating:\n",
            "keep_dims is deprecated, use keepdims instead\n",
            "W1112 22:10:22.808852 140144865326976 deprecation.py:323] From /usr/local/lib/python2.7/dist-packages/cleverhans/attacks.py:218: to_float (from tensorflow.python.ops.math_ops) is deprecated and will be removed in a future version.\n",
            "Instructions for updating:\n",
            "Use `tf.cast` instead.\n",
            "W1112 22:10:22.812026 140144865326976 deprecation.py:506] From /usr/local/lib/python2.7/dist-packages/cleverhans/attacks_tf.py:62: calling reduce_sum_v1 (from tensorflow.python.ops.math_ops) with keep_dims is deprecated and will be removed in a future version.\n",
            "Instructions for updating:\n",
            "keep_dims is deprecated, use keepdims instead\n",
            "W1112 22:10:22.815176 140144865326976 deprecation.py:323] From /usr/local/lib/python2.7/dist-packages/cleverhans/utils_tf.py:37: softmax_cross_entropy_with_logits (from tensorflow.python.ops.nn_ops) is deprecated and will be removed in a future version.\n",
            "Instructions for updating:\n",
            "\n",
            "Future major versions of TensorFlow will allow gradients to flow\n",
            "into the labels input on backprop by default.\n",
            "\n",
            "See `tf.nn.softmax_cross_entropy_with_logits_v2`.\n",
            "\n"
          ],
          "name": "stderr"
        },
        {
          "output_type": "stream",
          "text": [
            "10000/10000 [==============================] - 1s 56us/step\n",
            "FGM Adverserial Attack Accuracy: 8.280000%\n"
          ],
          "name": "stdout"
        }
      ]
    },
    {
      "cell_type": "code",
      "metadata": {
        "id": "wE_rdYIrDeNZ",
        "colab_type": "code",
        "colab": {
          "base_uri": "https://localhost:8080/",
          "height": 247
        },
        "outputId": "ef15f5d0-df60-428c-a63a-7ea860a7f1db"
      },
      "source": [
        "#Show ten original samples and their corresponding adversarial samples\n",
        "\n",
        "n = 10 # how many digits we will display\n",
        "plt.figure(figsize=(20,4))\n",
        "for i in range(n):\n",
        "  ax=plt.subplot(1,n,i+1)\n",
        "  plt.imshow(data_test[i].reshape(28,28))\n",
        "  plt.gray()\n",
        "  ax.get_xaxis().set_visible(False)\n",
        "  ax.get_yaxis().set_visible(False)\n",
        "\n",
        "n = 10 # how many digits we will display\n",
        "plt.figure(figsize=(20,4))\n",
        "for i in range(n):\n",
        "  ax=plt.subplot(1,n,i+1)\n",
        "  plt.imshow(fgm_attack_data_test[i].reshape(28,28))\n",
        "  plt.gray()\n",
        "  ax.get_xaxis().set_visible(False)\n",
        "  ax.get_yaxis().set_visible(False)"
      ],
      "execution_count": null,
      "outputs": [
        {
          "output_type": "display_data",
          "data": {
            "image/png": "[encoded data removed]",
            "text/plain": [
              "<Figure size 1440x288 with 10 Axes>"
            ]
          },
          "metadata": {
            "tags": []
          }
        },
        {
          "output_type": "display_data",
          "data": {
            "image/png": "[encoded data removed]",
            "text/plain": [
              "<Figure size 1440x288 with 10 Axes>"
            ]
          },
          "metadata": {
            "tags": []
          }
        }
      ]
    },
    {
      "cell_type": "code",
      "metadata": {
        "id": "qurgywiaJe-I",
        "colab_type": "code",
        "colab": {
          "base_uri": "https://localhost:8080/",
          "height": 1000
        },
        "outputId": "f2ee8091-112c-4f3d-d7a0-30b60e239f6f"
      },
      "source": [
        "#Implementing Detection via Autoencoders\n",
        "\n",
        "def autoencoder():\n",
        "    ae = Sequential()\n",
        "    ae.add(Dense(400, activation=None, kernel_initializer=\"normal\", input_dim=784))\n",
        "    ae.add(Dense(200, activation=None, kernel_initializer='normal'))\n",
        "    ae.add(Dense(100, activation=None, kernel_initializer='normal'))\n",
        "    ae.add(Dense(200, activation=None, kernel_initializer='normal'))\n",
        "    ae.add(Dense(400, activation=None, kernel_initializer='normal'))\n",
        "    ae.add(Dense(784, activation='sigmoid', kernel_initializer='normal'))\n",
        "    return ae\n",
        "\n",
        "#Create and train the autoencoder using the mean squared error loss and adam optimizer\n",
        "\n",
        "ae = autoencoder()\n",
        "ae.summary()\n",
        "ae.compile(loss=\"mean_squared_error\",optimizer=\"adam\", metrics = [\"accuracy\"])\n",
        "num_epochs = 50\n",
        "batch_size = 1024\n",
        "ae_history=ae.fit(data_train,data_train,validation_data=(data_test,data_test),epochs=num_epochs,batch_size=batch_size,shuffle=True)\n"
      ],
      "execution_count": null,
      "outputs": [
        {
          "output_type": "stream",
          "text": [
            "W1112 22:10:24.173655 140144865326976 module_wrapper.py:139] From /usr/local/lib/python2.7/dist-packages/keras/backend/tensorflow_backend.py:4115: The name tf.random_normal is deprecated. Please use tf.random.normal instead.\n",
            "\n"
          ],
          "name": "stderr"
        },
        {
          "output_type": "stream",
          "text": [
            "_________________________________________________________________\n",
            "Layer (type)                 Output Shape              Param #   \n",
            "=================================================================\n",
            "dense_4 (Dense)              (None, 400)               314000    \n",
            "_________________________________________________________________\n",
            "dense_5 (Dense)              (None, 200)               80200     \n",
            "_________________________________________________________________\n",
            "dense_6 (Dense)              (None, 100)               20100     \n",
            "_________________________________________________________________\n",
            "dense_7 (Dense)              (None, 200)               20200     \n",
            "_________________________________________________________________\n",
            "dense_8 (Dense)              (None, 400)               80400     \n",
            "_________________________________________________________________\n",
            "dense_9 (Dense)              (None, 784)               314384    \n",
            "=================================================================\n",
            "Total params: 829,284\n",
            "Trainable params: 829,284\n",
            "Non-trainable params: 0\n",
            "_________________________________________________________________\n",
            "Train on 60000 samples, validate on 10000 samples\n",
            "Epoch 1/50\n",
            "60000/60000 [==============================] - 1s 23us/step - loss: 0.0719 - acc: 0.0091 - val_loss: 0.0418 - val_acc: 0.0124\n",
            "Epoch 2/50\n",
            "60000/60000 [==============================] - 1s 16us/step - loss: 0.0334 - acc: 0.0108 - val_loss: 0.0280 - val_acc: 0.0101\n",
            "Epoch 3/50\n",
            "60000/60000 [==============================] - 1s 16us/step - loss: 0.0219 - acc: 0.0095 - val_loss: 0.0177 - val_acc: 0.0087\n",
            "Epoch 4/50\n",
            "60000/60000 [==============================] - 1s 16us/step - loss: 0.0165 - acc: 0.0090 - val_loss: 0.0144 - val_acc: 0.0104\n",
            "Epoch 5/50\n",
            "60000/60000 [==============================] - 1s 16us/step - loss: 0.0136 - acc: 0.0101 - val_loss: 0.0121 - val_acc: 0.0108\n",
            "Epoch 6/50\n",
            "60000/60000 [==============================] - 1s 16us/step - loss: 0.0118 - acc: 0.0113 - val_loss: 0.0110 - val_acc: 0.0128\n",
            "Epoch 7/50\n",
            "60000/60000 [==============================] - 1s 15us/step - loss: 0.0105 - acc: 0.0124 - val_loss: 0.0097 - val_acc: 0.0122\n",
            "Epoch 8/50\n",
            "60000/60000 [==============================] - 1s 15us/step - loss: 0.0096 - acc: 0.0129 - val_loss: 0.0087 - val_acc: 0.0113\n",
            "Epoch 9/50\n",
            "60000/60000 [==============================] - 1s 16us/step - loss: 0.0087 - acc: 0.0122 - val_loss: 0.0080 - val_acc: 0.0115\n",
            "Epoch 10/50\n",
            "60000/60000 [==============================] - 1s 16us/step - loss: 0.0080 - acc: 0.0127 - val_loss: 0.0074 - val_acc: 0.0112\n",
            "Epoch 11/50\n",
            "60000/60000 [==============================] - 1s 16us/step - loss: 0.0075 - acc: 0.0133 - val_loss: 0.0070 - val_acc: 0.0129\n",
            "Epoch 12/50\n",
            "60000/60000 [==============================] - 1s 16us/step - loss: 0.0070 - acc: 0.0135 - val_loss: 0.0065 - val_acc: 0.0120\n",
            "Epoch 13/50\n",
            "60000/60000 [==============================] - 1s 16us/step - loss: 0.0066 - acc: 0.0139 - val_loss: 0.0062 - val_acc: 0.0125\n",
            "Epoch 14/50\n",
            "60000/60000 [==============================] - 1s 16us/step - loss: 0.0062 - acc: 0.0133 - val_loss: 0.0058 - val_acc: 0.0124\n",
            "Epoch 15/50\n",
            "60000/60000 [==============================] - 1s 16us/step - loss: 0.0059 - acc: 0.0137 - val_loss: 0.0058 - val_acc: 0.0117\n",
            "Epoch 16/50\n",
            "60000/60000 [==============================] - 1s 16us/step - loss: 0.0057 - acc: 0.0131 - val_loss: 0.0054 - val_acc: 0.0133\n",
            "Epoch 17/50\n",
            "60000/60000 [==============================] - 1s 16us/step - loss: 0.0055 - acc: 0.0132 - val_loss: 0.0052 - val_acc: 0.0133\n",
            "Epoch 18/50\n",
            "60000/60000 [==============================] - 1s 16us/step - loss: 0.0052 - acc: 0.0131 - val_loss: 0.0050 - val_acc: 0.0117\n",
            "Epoch 19/50\n",
            "60000/60000 [==============================] - 1s 16us/step - loss: 0.0050 - acc: 0.0128 - val_loss: 0.0048 - val_acc: 0.0126\n",
            "Epoch 20/50\n",
            "60000/60000 [==============================] - 1s 16us/step - loss: 0.0048 - acc: 0.0132 - val_loss: 0.0046 - val_acc: 0.0119\n",
            "Epoch 21/50\n",
            "60000/60000 [==============================] - 1s 16us/step - loss: 0.0047 - acc: 0.0133 - val_loss: 0.0045 - val_acc: 0.0132\n",
            "Epoch 22/50\n",
            "60000/60000 [==============================] - 1s 16us/step - loss: 0.0046 - acc: 0.0138 - val_loss: 0.0044 - val_acc: 0.0122\n",
            "Epoch 23/50\n",
            "60000/60000 [==============================] - 1s 16us/step - loss: 0.0044 - acc: 0.0144 - val_loss: 0.0042 - val_acc: 0.0131\n",
            "Epoch 24/50\n",
            "60000/60000 [==============================] - 1s 16us/step - loss: 0.0043 - acc: 0.0142 - val_loss: 0.0041 - val_acc: 0.0133\n",
            "Epoch 25/50\n",
            "60000/60000 [==============================] - 1s 16us/step - loss: 0.0042 - acc: 0.0140 - val_loss: 0.0040 - val_acc: 0.0132\n",
            "Epoch 26/50\n",
            "60000/60000 [==============================] - 1s 16us/step - loss: 0.0041 - acc: 0.0143 - val_loss: 0.0039 - val_acc: 0.0127\n",
            "Epoch 27/50\n",
            "60000/60000 [==============================] - 1s 16us/step - loss: 0.0039 - acc: 0.0143 - val_loss: 0.0039 - val_acc: 0.0120\n",
            "Epoch 28/50\n",
            "60000/60000 [==============================] - 1s 16us/step - loss: 0.0038 - acc: 0.0143 - val_loss: 0.0037 - val_acc: 0.0128\n",
            "Epoch 29/50\n",
            "60000/60000 [==============================] - 1s 16us/step - loss: 0.0037 - acc: 0.0143 - val_loss: 0.0036 - val_acc: 0.0130\n",
            "Epoch 30/50\n",
            "60000/60000 [==============================] - 1s 16us/step - loss: 0.0036 - acc: 0.0137 - val_loss: 0.0035 - val_acc: 0.0124\n",
            "Epoch 31/50\n",
            "60000/60000 [==============================] - 1s 16us/step - loss: 0.0035 - acc: 0.0141 - val_loss: 0.0034 - val_acc: 0.0122\n",
            "Epoch 32/50\n",
            "60000/60000 [==============================] - 1s 16us/step - loss: 0.0034 - acc: 0.0131 - val_loss: 0.0035 - val_acc: 0.0124\n",
            "Epoch 33/50\n",
            "60000/60000 [==============================] - 1s 16us/step - loss: 0.0034 - acc: 0.0132 - val_loss: 0.0033 - val_acc: 0.0135\n",
            "Epoch 34/50\n",
            "60000/60000 [==============================] - 1s 16us/step - loss: 0.0033 - acc: 0.0131 - val_loss: 0.0033 - val_acc: 0.0124\n",
            "Epoch 35/50\n",
            "60000/60000 [==============================] - 1s 16us/step - loss: 0.0032 - acc: 0.0138 - val_loss: 0.0031 - val_acc: 0.0133\n",
            "Epoch 36/50\n",
            "60000/60000 [==============================] - 1s 16us/step - loss: 0.0032 - acc: 0.0129 - val_loss: 0.0031 - val_acc: 0.0132\n",
            "Epoch 37/50\n",
            "60000/60000 [==============================] - 1s 16us/step - loss: 0.0031 - acc: 0.0132 - val_loss: 0.0030 - val_acc: 0.0128\n",
            "Epoch 38/50\n",
            "60000/60000 [==============================] - 1s 16us/step - loss: 0.0031 - acc: 0.0130 - val_loss: 0.0030 - val_acc: 0.0142\n",
            "Epoch 39/50\n",
            "60000/60000 [==============================] - 1s 16us/step - loss: 0.0030 - acc: 0.0134 - val_loss: 0.0029 - val_acc: 0.0136\n",
            "Epoch 40/50\n",
            "60000/60000 [==============================] - 1s 16us/step - loss: 0.0030 - acc: 0.0134 - val_loss: 0.0029 - val_acc: 0.0129\n",
            "Epoch 41/50\n",
            "60000/60000 [==============================] - 1s 16us/step - loss: 0.0029 - acc: 0.0132 - val_loss: 0.0028 - val_acc: 0.0131\n",
            "Epoch 42/50\n",
            "60000/60000 [==============================] - 1s 16us/step - loss: 0.0029 - acc: 0.0136 - val_loss: 0.0028 - val_acc: 0.0131\n",
            "Epoch 43/50\n",
            "60000/60000 [==============================] - 1s 16us/step - loss: 0.0028 - acc: 0.0139 - val_loss: 0.0028 - val_acc: 0.0137\n",
            "Epoch 44/50\n",
            "60000/60000 [==============================] - 1s 16us/step - loss: 0.0028 - acc: 0.0136 - val_loss: 0.0027 - val_acc: 0.0141\n",
            "Epoch 45/50\n",
            "60000/60000 [==============================] - 1s 16us/step - loss: 0.0028 - acc: 0.0142 - val_loss: 0.0028 - val_acc: 0.0146\n",
            "Epoch 46/50\n",
            "60000/60000 [==============================] - 1s 16us/step - loss: 0.0027 - acc: 0.0142 - val_loss: 0.0027 - val_acc: 0.0145\n",
            "Epoch 47/50\n",
            "60000/60000 [==============================] - 1s 15us/step - loss: 0.0027 - acc: 0.0138 - val_loss: 0.0026 - val_acc: 0.0133\n",
            "Epoch 48/50\n",
            "60000/60000 [==============================] - 1s 16us/step - loss: 0.0026 - acc: 0.0142 - val_loss: 0.0026 - val_acc: 0.0141\n",
            "Epoch 49/50\n",
            "60000/60000 [==============================] - 1s 16us/step - loss: 0.0026 - acc: 0.0138 - val_loss: 0.0026 - val_acc: 0.0142\n",
            "Epoch 50/50\n",
            "60000/60000 [==============================] - 1s 16us/step - loss: 0.0026 - acc: 0.0142 - val_loss: 0.0026 - val_acc: 0.0141\n"
          ],
          "name": "stdout"
        }
      ]
    },
    {
      "cell_type": "code",
      "metadata": {
        "id": "sGVPbCP_JvDo",
        "colab_type": "code",
        "colab": {
          "base_uri": "https://localhost:8080/",
          "height": 68
        },
        "outputId": "c60b2d8c-a301-48ea-b504-b030353cddf5"
      },
      "source": [
        "#Using the autoencoder for detection and to determine a threshold \n",
        "\n",
        "# Create adversarial examples using FGSM on training data\n",
        "\n",
        "fgm_attack_data_train = fgm.generate_np(data_train, **fgm_params)\n",
        "\n",
        "# Obtain reconstruction errors on training set and determine a threshold \n",
        "\n",
        "data_train_reconstructions = ae.predict(fgm_attack_data_train)\n",
        "\n",
        "train_error = keras.losses.mean_squared_error(fgm_attack_data_train,data_train_reconstructions)\n",
        "\n",
        "# Convert error tensor into NumPy array \n",
        "\n",
        "train_error = train_error.eval(session=sess)\n",
        "\n",
        "# Determine threshold (based on min in this case) and print it \n",
        "\n",
        "min_train_error = min(train_error)\n",
        "print('Minimum error is %f' %min_train_error)\n",
        "\n",
        "# Calculate error of adversarial testing set\n",
        "\n",
        "data_test_reconstructions = ae.predict(fgm_attack_data_test)\n",
        "test_error = keras.losses.mean_squared_error(fgm_attack_data_test, data_test_reconstructions)\n",
        "\n",
        "test_error = test_error.eval(session=sess)\n",
        "\n",
        "# Determine how many examples are above threshold and consider them adversarial\n",
        "# (true positive count)\n",
        "\n",
        "count = 0\n",
        "true_positive = [None]\n",
        "for i in test_error:\n",
        "  if i > min_train_error:\n",
        "    true_positive.append(i)\n",
        "    count = count + 1\n",
        "\n",
        "# Print number of true positive samples\n",
        " \n",
        "print(\"Number of true positive samples are %d\" %count)\n",
        "\n",
        "# Determine false positives on benign testing set\n",
        "\n",
        "data_test_orig_reconstructions = ae.predict(data_test)\n",
        "test_error_orig = keras.losses.mean_squared_error(data_test, data_test_orig_reconstructions)\n",
        "test_error_orig = test_error_orig.eval(session=sess)\n",
        "\n",
        "# Determine how many examples are above threshold and consider them adversarial\n",
        "# (false positive count)\n",
        "\n",
        "count1 = 0\n",
        "false_positive = [None]\n",
        "for i in test_error_orig:\n",
        "  if i > min_train_error:\n",
        "    false_positive.append(i)\n",
        "    count1 = count1 + 1\n",
        "\n",
        "# Print number of false positive samples\n",
        "\n",
        "print(\"Number of false positive samples are %d\" %count1) "
      ],
      "execution_count": null,
      "outputs": [
        {
          "output_type": "stream",
          "text": [
            "Minimum error is 0.020346\n",
            "Number of true positive samples are 10000\n",
            "Number of false positive samples are 1\n"
          ],
          "name": "stdout"
        }
      ]
    },
    {
      "cell_type": "markdown",
      "metadata": {
        "id": "VE2WG6LnP14d",
        "colab_type": "text"
      },
      "source": [
        "#Part 3: Projected Gradient Descent"
      ]
    },
    {
      "cell_type": "code",
      "metadata": {
        "id": "iEkYKPN-P4Sj",
        "colab_type": "code",
        "colab": {
          "base_uri": "https://localhost:8080/",
          "height": 51
        },
        "outputId": "29ec4bb9-a4b5-4d22-b429-91146397b7fb"
      },
      "source": [
        "#Implementing the PGD attack\n",
        "\n",
        "#PGD Instance on trained classifier from Part 1\n",
        "pgd = MadryEtAl(wrap, sess=sess)\n",
        "\n",
        "#Attack parameters\n",
        "\n",
        "pgd_params = {'eps':0.25, 'eps_iter':0.01, 'nb_iter':20, 'clip_min':0.0,'clip_max':1.0}\n",
        "\n",
        "#Generate adversarial data\n",
        "\n",
        "pgd_attack_data_test = pgd.generate_np(data_test, **pgd_params)\n",
        "\n",
        "#Evaluate accuracy of perturbed data on target classifier\n",
        "\n",
        "pgd_adv_scores = classifier.evaluate(pgd_attack_data_test, labels_test)\n",
        "print(\"PGD Adverserial Attack Accuracy: %2f%%\" %(pgd_adv_scores[1]*100))"
      ],
      "execution_count": null,
      "outputs": [
        {
          "output_type": "stream",
          "text": [
            "10000/10000 [==============================] - 2s 159us/step\n",
            "PGD Adverserial Attack Accuracy: 0.990000%\n"
          ],
          "name": "stdout"
        }
      ]
    },
    {
      "cell_type": "code",
      "metadata": {
        "id": "urEHSPQISer1",
        "colab_type": "code",
        "colab": {
          "base_uri": "https://localhost:8080/",
          "height": 247
        },
        "outputId": "7b63ee89-4d6b-485c-e90e-d010092209e4"
      },
      "source": [
        "#Show ten original samples and their corresponding adversarial samples\n",
        "\n",
        "n = 10 # how many digits we will display\n",
        "plt.figure(figsize=(20,4))\n",
        "for i in range(n):\n",
        "  ax=plt.subplot(1,n,i+1)\n",
        "  plt.imshow(data_test[i].reshape(28,28))\n",
        "  plt.gray()\n",
        "  ax.get_xaxis().set_visible(False)\n",
        "  ax.get_yaxis().set_visible(False)\n",
        "\n",
        "n = 10 # how many digits we will display\n",
        "plt.figure(figsize=(20,4))\n",
        "for i in range(n):\n",
        "  ax=plt.subplot(1,n,i+1)\n",
        "  plt.imshow(pgd_attack_data_test[i].reshape(28,28))\n",
        "  plt.gray()\n",
        "  ax.get_xaxis().set_visible(False)\n",
        "  ax.get_yaxis().set_visible(False)"
      ],
      "execution_count": null,
      "outputs": [
        {
          "output_type": "display_data",
          "data": {
            "image/png": "[encoded data removed]",
            "text/plain": [
              "<Figure size 1440x288 with 10 Axes>"
            ]
          },
          "metadata": {
            "tags": []
          }
        },
        {
          "output_type": "display_data",
          "data": {
            "image/png": "[encoded data removed]",
            "text/plain": [
              "<Figure size 1440x288 with 10 Axes>"
            ]
          },
          "metadata": {
            "tags": []
          }
        }
      ]
    },
    {
      "cell_type": "code",
      "metadata": {
        "id": "gTygGikdUWU8",
        "colab_type": "code",
        "colab": {
          "base_uri": "https://localhost:8080/",
          "height": 1000
        },
        "outputId": "fd149030-d26a-4950-b015-8e042cd4cfa0"
      },
      "source": [
        "#Implementing the adversarial training defense\n",
        "\n",
        "pgd_attack_data_train = pgd.generate_np(data_train, **pgd_params)\n",
        "pgd_classifier = classifier\n",
        "\n",
        "#Training the classifier on perturbed training data and original training data\n",
        "pgd_classifier.compile(loss=\"categorical_crossentropy\",optimizer=\"adam\", metrics = [\"accuracy\"])\n",
        "num_epochs = 50\n",
        "batch_size = 256\n",
        "pgd_adv_and_orig_data_train=np.concatenate((pgd_attack_data_train,data_train),axis=0)\n",
        "concat_labels_train=np.concatenate((labels_train,labels_train),axis=0)\n",
        "pgd_classifier_history=pgd_classifier.fit(pgd_adv_and_orig_data_train,concat_labels_train,validation_data=(data_test,labels_test),epochs=num_epochs,batch_size=batch_size,shuffle=True)\n"
      ],
      "execution_count": null,
      "outputs": [
        {
          "output_type": "stream",
          "text": [
            "Train on 120000 samples, validate on 10000 samples\n",
            "Epoch 1/50\n",
            "120000/120000 [==============================] - 5s 41us/step - loss: 0.9067 - acc: 0.8844 - val_loss: 0.1244 - val_acc: 0.9686\n",
            "Epoch 2/50\n",
            "120000/120000 [==============================] - 3s 27us/step - loss: 0.0580 - acc: 0.9821 - val_loss: 0.0975 - val_acc: 0.9736\n",
            "Epoch 3/50\n",
            "120000/120000 [==============================] - 3s 27us/step - loss: 0.0268 - acc: 0.9916 - val_loss: 0.0904 - val_acc: 0.9782\n",
            "Epoch 4/50\n",
            "120000/120000 [==============================] - 3s 28us/step - loss: 0.0158 - acc: 0.9952 - val_loss: 0.0877 - val_acc: 0.9787\n",
            "Epoch 5/50\n",
            "120000/120000 [==============================] - 3s 27us/step - loss: 0.0102 - acc: 0.9971 - val_loss: 0.0978 - val_acc: 0.9782\n",
            "Epoch 6/50\n",
            "120000/120000 [==============================] - 3s 27us/step - loss: 0.0080 - acc: 0.9978 - val_loss: 0.0907 - val_acc: 0.9788\n",
            "Epoch 7/50\n",
            "120000/120000 [==============================] - 3s 28us/step - loss: 0.0065 - acc: 0.9983 - val_loss: 0.0937 - val_acc: 0.9785\n",
            "Epoch 8/50\n",
            "120000/120000 [==============================] - 3s 27us/step - loss: 0.0061 - acc: 0.9982 - val_loss: 0.0935 - val_acc: 0.9783\n",
            "Epoch 9/50\n",
            "120000/120000 [==============================] - 3s 27us/step - loss: 0.0063 - acc: 0.9980 - val_loss: 0.1025 - val_acc: 0.9776\n",
            "Epoch 10/50\n",
            "120000/120000 [==============================] - 3s 28us/step - loss: 0.0068 - acc: 0.9979 - val_loss: 0.0985 - val_acc: 0.9787\n",
            "Epoch 11/50\n",
            "120000/120000 [==============================] - 3s 27us/step - loss: 0.0052 - acc: 0.9983 - val_loss: 0.1130 - val_acc: 0.9750\n",
            "Epoch 12/50\n",
            "120000/120000 [==============================] - 3s 28us/step - loss: 0.0054 - acc: 0.9984 - val_loss: 0.1017 - val_acc: 0.9782\n",
            "Epoch 13/50\n",
            "120000/120000 [==============================] - 3s 28us/step - loss: 0.0034 - acc: 0.9991 - val_loss: 0.1003 - val_acc: 0.9796\n",
            "Epoch 14/50\n",
            "120000/120000 [==============================] - 3s 27us/step - loss: 0.0046 - acc: 0.9985 - val_loss: 0.1238 - val_acc: 0.9771\n",
            "Epoch 15/50\n",
            "120000/120000 [==============================] - 3s 27us/step - loss: 0.0055 - acc: 0.9982 - val_loss: 0.1077 - val_acc: 0.9765\n",
            "Epoch 16/50\n",
            "120000/120000 [==============================] - 3s 28us/step - loss: 0.0043 - acc: 0.9986 - val_loss: 0.1086 - val_acc: 0.9786\n",
            "Epoch 17/50\n",
            "120000/120000 [==============================] - 3s 27us/step - loss: 0.0033 - acc: 0.9989 - val_loss: 0.1124 - val_acc: 0.9780\n",
            "Epoch 18/50\n",
            "120000/120000 [==============================] - 3s 28us/step - loss: 0.0039 - acc: 0.9987 - val_loss: 0.1106 - val_acc: 0.9791\n",
            "Epoch 19/50\n",
            "120000/120000 [==============================] - 3s 28us/step - loss: 0.0041 - acc: 0.9986 - val_loss: 0.1225 - val_acc: 0.9763\n",
            "Epoch 20/50\n",
            "120000/120000 [==============================] - 3s 27us/step - loss: 0.0039 - acc: 0.9987 - val_loss: 0.1155 - val_acc: 0.9775\n",
            "Epoch 21/50\n",
            "120000/120000 [==============================] - 3s 27us/step - loss: 0.0042 - acc: 0.9987 - val_loss: 0.1091 - val_acc: 0.9784\n",
            "Epoch 22/50\n",
            "120000/120000 [==============================] - 3s 28us/step - loss: 0.0034 - acc: 0.9989 - val_loss: 0.1054 - val_acc: 0.9798\n",
            "Epoch 23/50\n",
            "120000/120000 [==============================] - 3s 28us/step - loss: 0.0030 - acc: 0.9991 - val_loss: 0.1095 - val_acc: 0.9788\n",
            "Epoch 24/50\n",
            "120000/120000 [==============================] - 3s 29us/step - loss: 0.0029 - acc: 0.9991 - val_loss: 0.1180 - val_acc: 0.9780\n",
            "Epoch 25/50\n",
            "120000/120000 [==============================] - 3s 28us/step - loss: 0.0036 - acc: 0.9988 - val_loss: 0.1030 - val_acc: 0.9803\n",
            "Epoch 26/50\n",
            "120000/120000 [==============================] - 3s 28us/step - loss: 0.0029 - acc: 0.9991 - val_loss: 0.1118 - val_acc: 0.9789\n",
            "Epoch 27/50\n",
            "120000/120000 [==============================] - 3s 28us/step - loss: 0.0026 - acc: 0.9992 - val_loss: 0.1101 - val_acc: 0.9800\n",
            "Epoch 28/50\n",
            "120000/120000 [==============================] - 3s 28us/step - loss: 0.0022 - acc: 0.9994 - val_loss: 0.1162 - val_acc: 0.9799\n",
            "Epoch 29/50\n",
            "120000/120000 [==============================] - 3s 29us/step - loss: 0.0019 - acc: 0.9995 - val_loss: 0.1132 - val_acc: 0.9786\n",
            "Epoch 30/50\n",
            "120000/120000 [==============================] - 3s 29us/step - loss: 0.0032 - acc: 0.9989 - val_loss: 0.1322 - val_acc: 0.9770\n",
            "Epoch 31/50\n",
            "120000/120000 [==============================] - 4s 29us/step - loss: 0.0044 - acc: 0.9986 - val_loss: 0.1130 - val_acc: 0.9781\n",
            "Epoch 32/50\n",
            "120000/120000 [==============================] - 3s 29us/step - loss: 0.0027 - acc: 0.9991 - val_loss: 0.1157 - val_acc: 0.9795\n",
            "Epoch 33/50\n",
            "120000/120000 [==============================] - 3s 28us/step - loss: 0.0019 - acc: 0.9994 - val_loss: 0.1091 - val_acc: 0.9799\n",
            "Epoch 34/50\n",
            "120000/120000 [==============================] - 3s 27us/step - loss: 0.0016 - acc: 0.9995 - val_loss: 0.1065 - val_acc: 0.9807\n",
            "Epoch 35/50\n",
            "120000/120000 [==============================] - 3s 27us/step - loss: 0.0021 - acc: 0.9993 - val_loss: 0.1125 - val_acc: 0.9798\n",
            "Epoch 36/50\n",
            "120000/120000 [==============================] - 3s 27us/step - loss: 0.0029 - acc: 0.9990 - val_loss: 0.1198 - val_acc: 0.9779\n",
            "Epoch 37/50\n",
            "120000/120000 [==============================] - 3s 27us/step - loss: 0.0022 - acc: 0.9993 - val_loss: 0.1237 - val_acc: 0.9787\n",
            "Epoch 38/50\n",
            "120000/120000 [==============================] - 3s 28us/step - loss: 0.0020 - acc: 0.9995 - val_loss: 0.1156 - val_acc: 0.9796\n",
            "Epoch 39/50\n",
            "120000/120000 [==============================] - 3s 27us/step - loss: 0.0012 - acc: 0.9997 - val_loss: 0.1111 - val_acc: 0.9811\n",
            "Epoch 40/50\n",
            "120000/120000 [==============================] - 3s 28us/step - loss: 0.0016 - acc: 0.9995 - val_loss: 0.1233 - val_acc: 0.9787\n",
            "Epoch 41/50\n",
            "120000/120000 [==============================] - 3s 27us/step - loss: 0.0024 - acc: 0.9992 - val_loss: 0.1223 - val_acc: 0.9799\n",
            "Epoch 42/50\n",
            "120000/120000 [==============================] - 3s 28us/step - loss: 0.0028 - acc: 0.9992 - val_loss: 0.1187 - val_acc: 0.9778\n",
            "Epoch 43/50\n",
            "120000/120000 [==============================] - 3s 28us/step - loss: 0.0018 - acc: 0.9995 - val_loss: 0.1274 - val_acc: 0.9782\n",
            "Epoch 44/50\n",
            "120000/120000 [==============================] - 3s 27us/step - loss: 0.0025 - acc: 0.9992 - val_loss: 0.1150 - val_acc: 0.9811\n",
            "Epoch 45/50\n",
            "120000/120000 [==============================] - 3s 27us/step - loss: 0.0013 - acc: 0.9996 - val_loss: 0.1342 - val_acc: 0.9778\n",
            "Epoch 46/50\n",
            "120000/120000 [==============================] - 3s 28us/step - loss: 0.0023 - acc: 0.9992 - val_loss: 0.1504 - val_acc: 0.9770\n",
            "Epoch 47/50\n",
            "120000/120000 [==============================] - 3s 29us/step - loss: 0.0024 - acc: 0.9992 - val_loss: 0.1223 - val_acc: 0.9797\n",
            "Epoch 48/50\n",
            "120000/120000 [==============================] - 3s 28us/step - loss: 0.0016 - acc: 0.9995 - val_loss: 0.1311 - val_acc: 0.9799\n",
            "Epoch 49/50\n",
            "120000/120000 [==============================] - 3s 28us/step - loss: 0.0012 - acc: 0.9996 - val_loss: 0.1144 - val_acc: 0.9811\n",
            "Epoch 50/50\n",
            "120000/120000 [==============================] - 3s 28us/step - loss: 0.0013 - acc: 0.9996 - val_loss: 0.1207 - val_acc: 0.9791\n"
          ],
          "name": "stdout"
        }
      ]
    },
    {
      "cell_type": "code",
      "metadata": {
        "id": "i6dMEXGBUlci",
        "colab_type": "code",
        "colab": {
          "base_uri": "https://localhost:8080/",
          "height": 51
        },
        "outputId": "08e7e55d-8507-445d-b4be-81056d5fa7bd"
      },
      "source": [
        "#Using the defense to evaluate the accuracy of the perturbed data\n",
        "\n",
        "pgd_final_scores = pgd_classifier.evaluate(pgd_attack_data_test, labels_test)\n",
        "print(\"PGD Adverserial Classifier Accuracy of perturbed testing data: %2f%%\" %(pgd_final_scores[1]*100))"
      ],
      "execution_count": null,
      "outputs": [
        {
          "output_type": "stream",
          "text": [
            "10000/10000 [==============================] - 1s 50us/step\n",
            "PGD Adverserial Classifier Accuracy of perturbed testing data: 97.730000%\n"
          ],
          "name": "stdout"
        }
      ]
    },
    {
      "cell_type": "markdown",
      "metadata": {
        "id": "MqIEiMdar_5q",
        "colab_type": "text"
      },
      "source": [
        "#Part 4: Carlini and Wagner Attack"
      ]
    },
    {
      "cell_type": "code",
      "metadata": {
        "id": "oyyNb-v5sCY6",
        "colab_type": "code",
        "colab": {
          "base_uri": "https://localhost:8080/",
          "height": 326
        },
        "outputId": "fef3d2b6-fd1b-4f93-c181-84f198c5363f"
      },
      "source": [
        "#Implementing the CW attack\n",
        "\n",
        "#CW Instance on trained classifier from Part 1\n",
        "\n",
        "cw = CarliniWagnerL2(wrap, sess=sess)\n",
        "\n",
        "#Attack parameters\n",
        "\n",
        "cw_params = {'binary_search_steps':1,'y':None, 'learning_rate':1.25, 'batch_size':16, 'initial_const':10, 'clip_min':0.0,'clip_max':1.0}\n",
        "\n",
        "#Generate adversarial data\n",
        "\n",
        "cw_attack_data_test = cw.generate_np(data_test, **cw_params)\n",
        "\n",
        "#Evaluate accuracy of perturbed data on target classifier\n",
        "\n",
        "cw_adv_scores = classifier.evaluate(cw_attack_data_test, labels_test)\n",
        "print(\"CW Adverserial Attack Accuracy: %2f%%\" %(cw_adv_scores[1]*100))"
      ],
      "execution_count": null,
      "outputs": [
        {
          "output_type": "stream",
          "text": [
            "W1112 22:14:15.995088 140144865326976 module_wrapper.py:139] From /usr/local/lib/python2.7/dist-packages/cleverhans/attacks_tf.py:725: The name tf.train.AdamOptimizer is deprecated. Please use tf.compat.v1.train.AdamOptimizer instead.\n",
            "\n",
            "W1112 22:14:16.216761 140144865326976 deprecation.py:323] From /usr/local/lib/python2.7/dist-packages/cleverhans/attacks.py:909: py_func (from tensorflow.python.ops.script_ops) is deprecated and will be removed in a future version.\n",
            "Instructions for updating:\n",
            "tf.py_func is deprecated in TF V2. Instead, there are two\n",
            "    options available in V2.\n",
            "    - tf.py_function takes a python function which manipulates tf eager\n",
            "    tensors instead of numpy arrays. It's easy to convert a tf eager tensor to\n",
            "    an ndarray (just call tensor.numpy()) but having access to eager tensors\n",
            "    means `tf.py_function`s can use accelerators such as GPUs as well as\n",
            "    being differentiable using a gradient tape.\n",
            "    - tf.numpy_function maintains the semantics of the deprecated tf.py_func\n",
            "    (it is not differentiable, and manipulates numpy arrays). It drops the\n",
            "    stateful argument making all functions stateful.\n",
            "    \n"
          ],
          "name": "stderr"
        },
        {
          "output_type": "stream",
          "text": [
            "10000/10000 [==============================] - 1s 146us/step\n",
            "CW Adverserial Attack Accuracy: 1.490000%\n"
          ],
          "name": "stdout"
        }
      ]
    },
    {
      "cell_type": "code",
      "metadata": {
        "id": "rlEMqrlPurRL",
        "colab_type": "code",
        "colab": {
          "base_uri": "https://localhost:8080/",
          "height": 247
        },
        "outputId": "d8cd611e-ab1a-4238-b9f4-a50b43b7bdbf"
      },
      "source": [
        "#Show ten original samples and their corresponding adversarial samples\n",
        "\n",
        "n = 10 # how many digits we will display\n",
        "plt.figure(figsize=(20,4))\n",
        "for i in range(n):\n",
        "  ax=plt.subplot(1,n,i+1)\n",
        "  plt.imshow(data_test[i].reshape(28,28))\n",
        "  plt.gray()\n",
        "  ax.get_xaxis().set_visible(False)\n",
        "  ax.get_yaxis().set_visible(False)\n",
        "\n",
        "n = 10 # how many digits we will display\n",
        "plt.figure(figsize=(20,4))\n",
        "for i in range(n):\n",
        "  ax=plt.subplot(1,n,i+1)\n",
        "  plt.imshow(cw_attack_data_test[i].reshape(28,28))\n",
        "  plt.gray()\n",
        "  ax.get_xaxis().set_visible(False)\n",
        "  ax.get_yaxis().set_visible(False)"
      ],
      "execution_count": null,
      "outputs": [
        {
          "output_type": "display_data",
          "data": {
            "image/png": "[encoded data removed]",
            "text/plain": [
              "<Figure size 1440x288 with 10 Axes>"
            ]
          },
          "metadata": {
            "tags": []
          }
        },
        {
          "output_type": "display_data",
          "data": {
            "image/png": "[encoded data removed]",
            "text/plain": [
              "<Figure size 1440x288 with 10 Axes>"
            ]
          },
          "metadata": {
            "tags": []
          }
        }
      ]
    },
    {
      "cell_type": "code",
      "metadata": {
        "id": "P-VhQHQ2uvmV",
        "colab_type": "code",
        "colab": {
          "base_uri": "https://localhost:8080/",
          "height": 1000
        },
        "outputId": "4f2a3e91-8d91-4fd4-9c5b-a2ef5a7eceff"
      },
      "source": [
        "#Implementing the dimensionality reduction (PCA) defense \n",
        "\n",
        "#Calculate PCA projection\n",
        "pca = PCA(100)\n",
        "pca.fit(data_train)\n",
        "pca_train = pca.transform(data_train)\n",
        "pca_test = pca.transform(data_test)\n",
        "\n",
        "#Transform perturbed CW data using the subspace from the original training data\n",
        "\n",
        "\n",
        "# create model for PCA\n",
        "def pca_model():\n",
        "    model = Sequential()\n",
        "    \n",
        "    model=Sequential()\n",
        "    model.add(Dense(100,input_dim=100,activation=\"relu\"))\n",
        "    model.add(BatchNormalization())\n",
        "    model.add(Dense(100,activation=\"relu\"))\n",
        "    model.add(BatchNormalization())\n",
        "    model.add(Dense(10, activation=\"softmax\"))\n",
        "    return model\n",
        "\n",
        "#Create model graph, compile it, and train it using pca_train lables_train \n",
        "\n",
        "pca_model = pca_model()\n",
        "pca_model.compile(loss=\"categorical_crossentropy\",optimizer=\"adam\", metrics = [\"accuracy\"])\n",
        "pca_model.summary()\n",
        "num_epochs = 50\n",
        "batch_size = 256\n",
        "pca_model_history=pca_model.fit(pca_train,labels_train,validation_data=(pca_test,labels_test),epochs=num_epochs,batch_size=batch_size,shuffle=True)\n",
        "scores = pca_model.evaluate(pca_test, labels_test)"
      ],
      "execution_count": null,
      "outputs": [
        {
          "output_type": "stream",
          "text": [
            "_________________________________________________________________\n",
            "Layer (type)                 Output Shape              Param #   \n",
            "=================================================================\n",
            "dense_10 (Dense)             (None, 100)               10100     \n",
            "_________________________________________________________________\n",
            "batch_normalization_3 (Batch (None, 100)               400       \n",
            "_________________________________________________________________\n",
            "dense_11 (Dense)             (None, 100)               10100     \n",
            "_________________________________________________________________\n",
            "batch_normalization_4 (Batch (None, 100)               400       \n",
            "_________________________________________________________________\n",
            "dense_12 (Dense)             (None, 10)                1010      \n",
            "=================================================================\n",
            "Total params: 22,010\n",
            "Trainable params: 21,610\n",
            "Non-trainable params: 400\n",
            "_________________________________________________________________\n",
            "Train on 60000 samples, validate on 10000 samples\n",
            "Epoch 1/50\n",
            "60000/60000 [==============================] - 3s 53us/step - loss: 0.4582 - acc: 0.8628 - val_loss: 0.1862 - val_acc: 0.9443\n",
            "Epoch 2/50\n",
            "60000/60000 [==============================] - 1s 23us/step - loss: 0.1571 - acc: 0.9556 - val_loss: 0.1245 - val_acc: 0.9632\n",
            "Epoch 3/50\n",
            "60000/60000 [==============================] - 1s 24us/step - loss: 0.1048 - acc: 0.9700 - val_loss: 0.1025 - val_acc: 0.9696\n",
            "Epoch 4/50\n",
            "60000/60000 [==============================] - 1s 24us/step - loss: 0.0780 - acc: 0.9778 - val_loss: 0.0883 - val_acc: 0.9733\n",
            "Epoch 5/50\n",
            "60000/60000 [==============================] - 1s 23us/step - loss: 0.0599 - acc: 0.9829 - val_loss: 0.0785 - val_acc: 0.9758\n",
            "Epoch 6/50\n",
            "60000/60000 [==============================] - 1s 24us/step - loss: 0.0479 - acc: 0.9866 - val_loss: 0.0779 - val_acc: 0.9764\n",
            "Epoch 7/50\n",
            "60000/60000 [==============================] - 1s 23us/step - loss: 0.0388 - acc: 0.9890 - val_loss: 0.0739 - val_acc: 0.9759\n",
            "Epoch 8/50\n",
            "60000/60000 [==============================] - 1s 24us/step - loss: 0.0310 - acc: 0.9917 - val_loss: 0.0735 - val_acc: 0.9781\n",
            "Epoch 9/50\n",
            "60000/60000 [==============================] - 1s 23us/step - loss: 0.0248 - acc: 0.9936 - val_loss: 0.0744 - val_acc: 0.9777\n",
            "Epoch 10/50\n",
            "60000/60000 [==============================] - 1s 23us/step - loss: 0.0211 - acc: 0.9944 - val_loss: 0.0749 - val_acc: 0.9776\n",
            "Epoch 11/50\n",
            "60000/60000 [==============================] - 1s 23us/step - loss: 0.0179 - acc: 0.9953 - val_loss: 0.0748 - val_acc: 0.9780\n",
            "Epoch 12/50\n",
            "60000/60000 [==============================] - 1s 23us/step - loss: 0.0144 - acc: 0.9967 - val_loss: 0.0762 - val_acc: 0.9783\n",
            "Epoch 13/50\n",
            "60000/60000 [==============================] - 1s 23us/step - loss: 0.0126 - acc: 0.9972 - val_loss: 0.0796 - val_acc: 0.9785\n",
            "Epoch 14/50\n",
            "60000/60000 [==============================] - 1s 24us/step - loss: 0.0105 - acc: 0.9978 - val_loss: 0.0849 - val_acc: 0.9772\n",
            "Epoch 15/50\n",
            "60000/60000 [==============================] - 1s 23us/step - loss: 0.0096 - acc: 0.9978 - val_loss: 0.0815 - val_acc: 0.9781\n",
            "Epoch 16/50\n",
            "60000/60000 [==============================] - 1s 23us/step - loss: 0.0076 - acc: 0.9984 - val_loss: 0.0898 - val_acc: 0.9775\n",
            "Epoch 17/50\n",
            "60000/60000 [==============================] - 1s 24us/step - loss: 0.0072 - acc: 0.9987 - val_loss: 0.0860 - val_acc: 0.9793\n",
            "Epoch 18/50\n",
            "60000/60000 [==============================] - 1s 23us/step - loss: 0.0070 - acc: 0.9985 - val_loss: 0.0941 - val_acc: 0.9762\n",
            "Epoch 19/50\n",
            "60000/60000 [==============================] - 1s 24us/step - loss: 0.0105 - acc: 0.9969 - val_loss: 0.0943 - val_acc: 0.9775\n",
            "Epoch 20/50\n",
            "60000/60000 [==============================] - 1s 23us/step - loss: 0.0073 - acc: 0.9983 - val_loss: 0.0899 - val_acc: 0.9784\n",
            "Epoch 21/50\n",
            "60000/60000 [==============================] - 1s 23us/step - loss: 0.0066 - acc: 0.9983 - val_loss: 0.0923 - val_acc: 0.9780\n",
            "Epoch 22/50\n",
            "60000/60000 [==============================] - 1s 23us/step - loss: 0.0044 - acc: 0.9991 - val_loss: 0.0898 - val_acc: 0.9788\n",
            "Epoch 23/50\n",
            "60000/60000 [==============================] - 1s 23us/step - loss: 0.0040 - acc: 0.9990 - val_loss: 0.0953 - val_acc: 0.9787\n",
            "Epoch 24/50\n",
            "60000/60000 [==============================] - 1s 23us/step - loss: 0.0043 - acc: 0.9991 - val_loss: 0.0934 - val_acc: 0.9787\n",
            "Epoch 25/50\n",
            "60000/60000 [==============================] - 1s 24us/step - loss: 0.0068 - acc: 0.9980 - val_loss: 0.0993 - val_acc: 0.9775\n",
            "Epoch 26/50\n",
            "60000/60000 [==============================] - 1s 23us/step - loss: 0.0099 - acc: 0.9967 - val_loss: 0.1018 - val_acc: 0.9780\n",
            "Epoch 27/50\n",
            "60000/60000 [==============================] - 1s 24us/step - loss: 0.0068 - acc: 0.9980 - val_loss: 0.0977 - val_acc: 0.9794\n",
            "Epoch 28/50\n",
            "60000/60000 [==============================] - 1s 23us/step - loss: 0.0040 - acc: 0.9992 - val_loss: 0.0940 - val_acc: 0.9796\n",
            "Epoch 29/50\n",
            "60000/60000 [==============================] - 1s 23us/step - loss: 0.0025 - acc: 0.9995 - val_loss: 0.1007 - val_acc: 0.9793\n",
            "Epoch 30/50\n",
            "60000/60000 [==============================] - 1s 23us/step - loss: 0.0024 - acc: 0.9994 - val_loss: 0.1017 - val_acc: 0.9784\n",
            "Epoch 31/50\n",
            "60000/60000 [==============================] - 1s 23us/step - loss: 0.0031 - acc: 0.9994 - val_loss: 0.1008 - val_acc: 0.9785\n",
            "Epoch 32/50\n",
            "60000/60000 [==============================] - 1s 24us/step - loss: 0.0036 - acc: 0.9991 - val_loss: 0.1035 - val_acc: 0.9783\n",
            "Epoch 33/50\n",
            "60000/60000 [==============================] - 1s 24us/step - loss: 0.0035 - acc: 0.9990 - val_loss: 0.1012 - val_acc: 0.9788\n",
            "Epoch 34/50\n",
            "60000/60000 [==============================] - 1s 23us/step - loss: 0.0037 - acc: 0.9991 - val_loss: 0.1072 - val_acc: 0.9777\n",
            "Epoch 35/50\n",
            "60000/60000 [==============================] - 1s 24us/step - loss: 0.0054 - acc: 0.9985 - val_loss: 0.1122 - val_acc: 0.9767\n",
            "Epoch 36/50\n",
            "60000/60000 [==============================] - 1s 23us/step - loss: 0.0072 - acc: 0.9977 - val_loss: 0.1107 - val_acc: 0.9786\n",
            "Epoch 37/50\n",
            "60000/60000 [==============================] - 1s 23us/step - loss: 0.0049 - acc: 0.9986 - val_loss: 0.1080 - val_acc: 0.9779\n",
            "Epoch 38/50\n",
            "60000/60000 [==============================] - 1s 24us/step - loss: 0.0032 - acc: 0.9992 - val_loss: 0.1062 - val_acc: 0.9780\n",
            "Epoch 39/50\n",
            "60000/60000 [==============================] - 2s 30us/step - loss: 0.0024 - acc: 0.9994 - val_loss: 0.1093 - val_acc: 0.9787\n",
            "Epoch 40/50\n",
            "60000/60000 [==============================] - 1s 24us/step - loss: 0.0027 - acc: 0.9993 - val_loss: 0.1105 - val_acc: 0.9782\n",
            "Epoch 41/50\n",
            "60000/60000 [==============================] - 1s 24us/step - loss: 0.0026 - acc: 0.9994 - val_loss: 0.1061 - val_acc: 0.9788\n",
            "Epoch 42/50\n",
            "60000/60000 [==============================] - 2s 25us/step - loss: 0.0026 - acc: 0.9994 - val_loss: 0.1073 - val_acc: 0.9788\n",
            "Epoch 43/50\n",
            "60000/60000 [==============================] - 1s 25us/step - loss: 0.0027 - acc: 0.9994 - val_loss: 0.1100 - val_acc: 0.9790\n",
            "Epoch 44/50\n",
            "60000/60000 [==============================] - 2s 27us/step - loss: 0.0031 - acc: 0.9991 - val_loss: 0.1164 - val_acc: 0.9777\n",
            "Epoch 45/50\n",
            "60000/60000 [==============================] - 2s 25us/step - loss: 0.0067 - acc: 0.9979 - val_loss: 0.1142 - val_acc: 0.9777\n",
            "Epoch 46/50\n",
            "60000/60000 [==============================] - 2s 25us/step - loss: 0.0059 - acc: 0.9979 - val_loss: 0.1139 - val_acc: 0.9789\n",
            "Epoch 47/50\n",
            "60000/60000 [==============================] - 1s 24us/step - loss: 0.0035 - acc: 0.9989 - val_loss: 0.1100 - val_acc: 0.9801\n",
            "Epoch 48/50\n",
            "60000/60000 [==============================] - 1s 25us/step - loss: 0.0022 - acc: 0.9994 - val_loss: 0.1089 - val_acc: 0.9802\n",
            "Epoch 49/50\n",
            "60000/60000 [==============================] - 1s 25us/step - loss: 0.0017 - acc: 0.9997 - val_loss: 0.1086 - val_acc: 0.9805\n",
            "Epoch 50/50\n",
            "60000/60000 [==============================] - 1s 24us/step - loss: 0.0010 - acc: 0.9998 - val_loss: 0.1086 - val_acc: 0.9800\n",
            "10000/10000 [==============================] - 1s 52us/step\n"
          ],
          "name": "stdout"
        }
      ]
    },
    {
      "cell_type": "code",
      "metadata": {
        "id": "o9L61AfG2y94",
        "colab_type": "code",
        "colab": {
          "base_uri": "https://localhost:8080/",
          "height": 51
        },
        "outputId": "b918973c-4e69-400d-a8b3-62a162066871"
      },
      "source": [
        "#Using the defense (and comparing to baseline accuracy)\n",
        "\n",
        "cw_attack_data_test = pca.transform(cw_attack_data_test)\n",
        "scores = pca_model.evaluate(cw_attack_data_test, labels_test)\n",
        "print(\"CW Accuracy after defense through PCA Model: %2f%%\" %(scores[1]*100))"
      ],
      "execution_count": null,
      "outputs": [
        {
          "output_type": "stream",
          "text": [
            "10000/10000 [==============================] - 1s 51us/step\n",
            "CW Accuracy after defense through PCA Model: 83.650000%\n"
          ],
          "name": "stdout"
        }
      ]
    },
    {
      "cell_type": "markdown",
      "metadata": {
        "id": "KP0mENqGhDt0",
        "colab_type": "text"
      },
      "source": [
        "#Part 5: DeepFool "
      ]
    },
    {
      "cell_type": "code",
      "metadata": {
        "id": "zHraovc2hES3",
        "colab_type": "code",
        "colab": {
          "base_uri": "https://localhost:8080/",
          "height": 326
        },
        "outputId": "4fe93207-aa49-46ed-c691-04ddd0b28906"
      },
      "source": [
        "#Implementing the DeepFool attack\n",
        "\n",
        "#DeepFool Instance on trained classifier from Part 1\n",
        "\n",
        "df = DeepFool(wrap, sess=sess)\n",
        "\n",
        "#Attack parameters\n",
        "\n",
        "df_params = {'nb_candidate':10,'max_iter':50, 'clip_min':0.0,'clip_max':1.0}\n",
        "\n",
        "\n",
        "#Generate adversarial data\n",
        "\n",
        "df_attack_data_test = df.generate_np(data_test, **df_params)\n",
        "\n",
        "\n",
        "#Evaluate accuracy of perturbed data on target classifier\n",
        "\n",
        "df_adv_scores = classifier.evaluate(df_attack_data_test, labels_test)\n",
        "print(\"DeepFool Adverserial Attack Accuracy: %2f%%\" %(df_adv_scores[1]*100))"
      ],
      "execution_count": null,
      "outputs": [
        {
          "output_type": "stream",
          "text": [
            "W1113 00:15:27.519794 140568910866304 module_wrapper.py:139] From /usr/local/lib/python2.7/dist-packages/cleverhans/utils_tf.py:368: The name tf.GraphKeys is deprecated. Please use tf.compat.v1.GraphKeys instead.\n",
            "\n",
            "W1113 00:15:29.159167 140568910866304 deprecation.py:323] From /usr/local/lib/python2.7/dist-packages/cleverhans/attacks.py:1119: py_func (from tensorflow.python.ops.script_ops) is deprecated and will be removed in a future version.\n",
            "Instructions for updating:\n",
            "tf.py_func is deprecated in TF V2. Instead, there are two\n",
            "    options available in V2.\n",
            "    - tf.py_function takes a python function which manipulates tf eager\n",
            "    tensors instead of numpy arrays. It's easy to convert a tf eager tensor to\n",
            "    an ndarray (just call tensor.numpy()) but having access to eager tensors\n",
            "    means `tf.py_function`s can use accelerators such as GPUs as well as\n",
            "    being differentiable using a gradient tape.\n",
            "    - tf.numpy_function maintains the semantics of the deprecated tf.py_func\n",
            "    (it is not differentiable, and manipulates numpy arrays). It drops the\n",
            "    stateful argument making all functions stateful.\n",
            "    \n"
          ],
          "name": "stderr"
        },
        {
          "output_type": "stream",
          "text": [
            "10000/10000 [==============================] - 1s 74us/step\n",
            "DeepFool Adverserial Attack Accuracy: 1.630000%\n"
          ],
          "name": "stdout"
        }
      ]
    },
    {
      "cell_type": "code",
      "metadata": {
        "id": "zEsLfmxThZ6M",
        "colab_type": "code",
        "colab": {
          "base_uri": "https://localhost:8080/",
          "height": 247
        },
        "outputId": "bd980910-05e4-4099-9e24-312e38a2ca11"
      },
      "source": [
        "#Show ten original samples and their corresponding adversarial samples\n",
        "\n",
        "n = 10 # how many digits we will display\n",
        "plt.figure(figsize=(20,4))\n",
        "for i in range(n):\n",
        "  ax=plt.subplot(1,n,i+1)\n",
        "  plt.imshow(data_test[i].reshape(28,28))\n",
        "  plt.gray()\n",
        "  ax.get_xaxis().set_visible(False)\n",
        "  ax.get_yaxis().set_visible(False)\n",
        "\n",
        "n = 10 # how many digits we will display\n",
        "plt.figure(figsize=(20,4))\n",
        "for i in range(n):\n",
        "  ax=plt.subplot(1,n,i+1)\n",
        "  plt.imshow(df_attack_data_test[i].reshape(28,28))\n",
        "  plt.gray()\n",
        "  ax.get_xaxis().set_visible(False)\n",
        "  ax.get_yaxis().set_visible(False)"
      ],
      "execution_count": null,
      "outputs": [
        {
          "output_type": "display_data",
          "data": {
            "image/png": "[encoded data removed]",
            "text/plain": [
              "<Figure size 1440x288 with 10 Axes>"
            ]
          },
          "metadata": {
            "tags": []
          }
        },
        {
          "output_type": "display_data",
          "data": {
            "image/png": "[encoded data removed]",
            "text/plain": [
              "<Figure size 1440x288 with 10 Axes>"
            ]
          },
          "metadata": {
            "tags": []
          }
        }
      ]
    },
    {
      "cell_type": "code",
      "metadata": {
        "id": "tOapt7QaM4U_",
        "colab_type": "code",
        "colab": {
          "base_uri": "https://localhost:8080/",
          "height": 1000
        },
        "outputId": "e140d70f-09e3-4410-8dad-ff16172500f4"
      },
      "source": [
        "#Implementing the Denoising Autoencoder Defense\n",
        "\n",
        "def autoencoder():\n",
        "    auto = Sequential()\n",
        "    auto.add(Dense(400, activation=None, kernel_initializer=\"normal\", input_dim=784))\n",
        "    auto.add(Dense(200, activation=None, kernel_initializer='normal'))\n",
        "    auto.add(Dense(100, activation=None, kernel_initializer='normal'))\n",
        "    auto.add(Dense(200, activation=None, kernel_initializer='normal'))\n",
        "    auto.add(Dense(400, activation=None, kernel_initializer='normal'))\n",
        "    auto.add(Dense(784, activation='sigmoid', kernel_initializer='normal'))\n",
        "    return auto\n",
        "\n",
        "#Create training data for DAE \n",
        "df_attack_data_train = df.generate_np(data_train, **df_params)\n",
        "data_total_train = np.concatenate([df_attack_data_train, data_train])\n",
        "\n",
        "#Create and train DAE graph\n",
        "\n",
        "auto = autoencoder()\n",
        "auto.summary()\n",
        "auto.compile(loss=\"mean_squared_error\",optimizer=\"adam\", metrics = [\"accuracy\"])\n",
        "num_epochs = 50\n",
        "batch_size = 256\n",
        "auto_history=auto.fit(data_total_train,data_total_train,validation_data=(data_test,data_test),epochs=num_epochs,batch_size=batch_size,shuffle=True)\n"
      ],
      "execution_count": null,
      "outputs": [
        {
          "output_type": "stream",
          "text": [
            "W1113 00:18:24.500349 140568910866304 module_wrapper.py:139] From /usr/local/lib/python2.7/dist-packages/keras/backend/tensorflow_backend.py:4115: The name tf.random_normal is deprecated. Please use tf.random.normal instead.\n",
            "\n"
          ],
          "name": "stderr"
        },
        {
          "output_type": "stream",
          "text": [
            "_________________________________________________________________\n",
            "Layer (type)                 Output Shape              Param #   \n",
            "=================================================================\n",
            "dense_4 (Dense)              (None, 400)               314000    \n",
            "_________________________________________________________________\n",
            "dense_5 (Dense)              (None, 200)               80200     \n",
            "_________________________________________________________________\n",
            "dense_6 (Dense)              (None, 100)               20100     \n",
            "_________________________________________________________________\n",
            "dense_7 (Dense)              (None, 200)               20200     \n",
            "_________________________________________________________________\n",
            "dense_8 (Dense)              (None, 400)               80400     \n",
            "_________________________________________________________________\n",
            "dense_9 (Dense)              (None, 784)               314384    \n",
            "=================================================================\n",
            "Total params: 829,284\n",
            "Trainable params: 829,284\n",
            "Non-trainable params: 0\n",
            "_________________________________________________________________\n",
            "Train on 120000 samples, validate on 10000 samples\n",
            "Epoch 1/50\n",
            "120000/120000 [==============================] - 4s 29us/step - loss: 0.0249 - acc: 0.0099 - val_loss: 0.0096 - val_acc: 0.0115\n",
            "Epoch 2/50\n",
            "120000/120000 [==============================] - 3s 24us/step - loss: 0.0077 - acc: 0.0123 - val_loss: 0.0058 - val_acc: 0.0122\n",
            "Epoch 3/50\n",
            "120000/120000 [==============================] - 3s 23us/step - loss: 0.0055 - acc: 0.0138 - val_loss: 0.0045 - val_acc: 0.0139\n",
            "Epoch 4/50\n",
            "120000/120000 [==============================] - 3s 24us/step - loss: 0.0044 - acc: 0.0140 - val_loss: 0.0037 - val_acc: 0.0109\n",
            "Epoch 5/50\n",
            "120000/120000 [==============================] - 3s 25us/step - loss: 0.0038 - acc: 0.0148 - val_loss: 0.0032 - val_acc: 0.0123\n",
            "Epoch 6/50\n",
            "120000/120000 [==============================] - 3s 23us/step - loss: 0.0033 - acc: 0.0154 - val_loss: 0.0029 - val_acc: 0.0120\n",
            "Epoch 7/50\n",
            "120000/120000 [==============================] - 3s 24us/step - loss: 0.0030 - acc: 0.0163 - val_loss: 0.0027 - val_acc: 0.0141\n",
            "Epoch 8/50\n",
            "120000/120000 [==============================] - 3s 24us/step - loss: 0.0029 - acc: 0.0163 - val_loss: 0.0025 - val_acc: 0.0140\n",
            "Epoch 9/50\n",
            "120000/120000 [==============================] - 3s 24us/step - loss: 0.0027 - acc: 0.0163 - val_loss: 0.0024 - val_acc: 0.0145\n",
            "Epoch 10/50\n",
            "120000/120000 [==============================] - 3s 25us/step - loss: 0.0026 - acc: 0.0166 - val_loss: 0.0023 - val_acc: 0.0129\n",
            "Epoch 11/50\n",
            "120000/120000 [==============================] - 3s 24us/step - loss: 0.0025 - acc: 0.0168 - val_loss: 0.0022 - val_acc: 0.0149\n",
            "Epoch 12/50\n",
            "120000/120000 [==============================] - 3s 24us/step - loss: 0.0024 - acc: 0.0169 - val_loss: 0.0021 - val_acc: 0.0132\n",
            "Epoch 13/50\n",
            "120000/120000 [==============================] - 3s 23us/step - loss: 0.0023 - acc: 0.0171 - val_loss: 0.0021 - val_acc: 0.0139\n",
            "Epoch 14/50\n",
            "120000/120000 [==============================] - 3s 24us/step - loss: 0.0023 - acc: 0.0173 - val_loss: 0.0021 - val_acc: 0.0137\n",
            "Epoch 15/50\n",
            "120000/120000 [==============================] - 3s 24us/step - loss: 0.0023 - acc: 0.0175 - val_loss: 0.0020 - val_acc: 0.0133\n",
            "Epoch 16/50\n",
            "120000/120000 [==============================] - 3s 23us/step - loss: 0.0022 - acc: 0.0175 - val_loss: 0.0020 - val_acc: 0.0121\n",
            "Epoch 17/50\n",
            "120000/120000 [==============================] - 3s 23us/step - loss: 0.0022 - acc: 0.0180 - val_loss: 0.0020 - val_acc: 0.0142\n",
            "Epoch 18/50\n",
            "120000/120000 [==============================] - 3s 24us/step - loss: 0.0022 - acc: 0.0175 - val_loss: 0.0020 - val_acc: 0.0141\n",
            "Epoch 19/50\n",
            "120000/120000 [==============================] - 3s 24us/step - loss: 0.0022 - acc: 0.0177 - val_loss: 0.0020 - val_acc: 0.0158\n",
            "Epoch 20/50\n",
            "120000/120000 [==============================] - 3s 24us/step - loss: 0.0022 - acc: 0.0179 - val_loss: 0.0020 - val_acc: 0.0160\n",
            "Epoch 21/50\n",
            "120000/120000 [==============================] - 3s 23us/step - loss: 0.0022 - acc: 0.0181 - val_loss: 0.0020 - val_acc: 0.0138\n",
            "Epoch 22/50\n",
            "120000/120000 [==============================] - 3s 23us/step - loss: 0.0022 - acc: 0.0173 - val_loss: 0.0020 - val_acc: 0.0148\n",
            "Epoch 23/50\n",
            "120000/120000 [==============================] - 3s 23us/step - loss: 0.0022 - acc: 0.0179 - val_loss: 0.0020 - val_acc: 0.0139\n",
            "Epoch 24/50\n",
            "120000/120000 [==============================] - 3s 24us/step - loss: 0.0022 - acc: 0.0179 - val_loss: 0.0020 - val_acc: 0.0145\n",
            "Epoch 25/50\n",
            "120000/120000 [==============================] - 3s 23us/step - loss: 0.0022 - acc: 0.0182 - val_loss: 0.0019 - val_acc: 0.0126\n",
            "Epoch 26/50\n",
            "120000/120000 [==============================] - 3s 24us/step - loss: 0.0022 - acc: 0.0175 - val_loss: 0.0019 - val_acc: 0.0137\n",
            "Epoch 27/50\n",
            "120000/120000 [==============================] - 3s 24us/step - loss: 0.0021 - acc: 0.0176 - val_loss: 0.0019 - val_acc: 0.0143\n",
            "Epoch 28/50\n",
            "120000/120000 [==============================] - 3s 24us/step - loss: 0.0021 - acc: 0.0179 - val_loss: 0.0019 - val_acc: 0.0141\n",
            "Epoch 29/50\n",
            "120000/120000 [==============================] - 3s 24us/step - loss: 0.0021 - acc: 0.0181 - val_loss: 0.0019 - val_acc: 0.0141\n",
            "Epoch 30/50\n",
            "120000/120000 [==============================] - 3s 24us/step - loss: 0.0021 - acc: 0.0177 - val_loss: 0.0019 - val_acc: 0.0133\n",
            "Epoch 31/50\n",
            "120000/120000 [==============================] - 3s 24us/step - loss: 0.0021 - acc: 0.0178 - val_loss: 0.0019 - val_acc: 0.0140\n",
            "Epoch 32/50\n",
            "120000/120000 [==============================] - 3s 24us/step - loss: 0.0021 - acc: 0.0183 - val_loss: 0.0019 - val_acc: 0.0139\n",
            "Epoch 33/50\n",
            "120000/120000 [==============================] - 3s 25us/step - loss: 0.0021 - acc: 0.0178 - val_loss: 0.0019 - val_acc: 0.0153\n",
            "Epoch 34/50\n",
            "120000/120000 [==============================] - 3s 24us/step - loss: 0.0021 - acc: 0.0178 - val_loss: 0.0019 - val_acc: 0.0158\n",
            "Epoch 35/50\n",
            "120000/120000 [==============================] - 3s 24us/step - loss: 0.0021 - acc: 0.0180 - val_loss: 0.0019 - val_acc: 0.0147\n",
            "Epoch 36/50\n",
            "120000/120000 [==============================] - 3s 24us/step - loss: 0.0021 - acc: 0.0178 - val_loss: 0.0019 - val_acc: 0.0130\n",
            "Epoch 37/50\n",
            "120000/120000 [==============================] - 3s 24us/step - loss: 0.0021 - acc: 0.0184 - val_loss: 0.0019 - val_acc: 0.0147\n",
            "Epoch 38/50\n",
            "120000/120000 [==============================] - 3s 24us/step - loss: 0.0021 - acc: 0.0184 - val_loss: 0.0019 - val_acc: 0.0147\n",
            "Epoch 39/50\n",
            "120000/120000 [==============================] - 3s 24us/step - loss: 0.0021 - acc: 0.0181 - val_loss: 0.0019 - val_acc: 0.0149\n",
            "Epoch 40/50\n",
            "120000/120000 [==============================] - 3s 24us/step - loss: 0.0021 - acc: 0.0182 - val_loss: 0.0019 - val_acc: 0.0141\n",
            "Epoch 41/50\n",
            "120000/120000 [==============================] - 3s 24us/step - loss: 0.0021 - acc: 0.0181 - val_loss: 0.0019 - val_acc: 0.0137\n",
            "Epoch 42/50\n",
            "120000/120000 [==============================] - 3s 23us/step - loss: 0.0021 - acc: 0.0183 - val_loss: 0.0019 - val_acc: 0.0144\n",
            "Epoch 43/50\n",
            "120000/120000 [==============================] - 3s 24us/step - loss: 0.0021 - acc: 0.0181 - val_loss: 0.0019 - val_acc: 0.0155\n",
            "Epoch 44/50\n",
            "120000/120000 [==============================] - 3s 23us/step - loss: 0.0021 - acc: 0.0184 - val_loss: 0.0019 - val_acc: 0.0138\n",
            "Epoch 45/50\n",
            "120000/120000 [==============================] - 3s 24us/step - loss: 0.0021 - acc: 0.0184 - val_loss: 0.0019 - val_acc: 0.0156\n",
            "Epoch 46/50\n",
            "120000/120000 [==============================] - 3s 24us/step - loss: 0.0021 - acc: 0.0180 - val_loss: 0.0019 - val_acc: 0.0142\n",
            "Epoch 47/50\n",
            "120000/120000 [==============================] - 3s 24us/step - loss: 0.0021 - acc: 0.0186 - val_loss: 0.0019 - val_acc: 0.0130\n",
            "Epoch 48/50\n",
            "120000/120000 [==============================] - 3s 24us/step - loss: 0.0021 - acc: 0.0181 - val_loss: 0.0019 - val_acc: 0.0130\n",
            "Epoch 49/50\n",
            "120000/120000 [==============================] - 3s 23us/step - loss: 0.0021 - acc: 0.0182 - val_loss: 0.0019 - val_acc: 0.0148\n",
            "Epoch 50/50\n",
            "120000/120000 [==============================] - 3s 24us/step - loss: 0.0021 - acc: 0.0184 - val_loss: 0.0019 - val_acc: 0.0144\n"
          ],
          "name": "stdout"
        }
      ]
    },
    {
      "cell_type": "code",
      "metadata": {
        "id": "5CjKifVRNMMV",
        "colab_type": "code",
        "colab": {
          "base_uri": "https://localhost:8080/",
          "height": 51
        },
        "outputId": "9eae3b28-f6fd-4f30-c692-52d218ad7bbb"
      },
      "source": [
        "#Using the defense\n",
        "\n",
        "#Use DAE to to remove adversarial perturbation \n",
        "\n",
        "df_attack_data_test_recons = auto.predict(df_attack_data_test)\n",
        "df_scores = classifier.evaluate(df_attack_data_test_recons,labels_test)\n",
        "\n",
        "#Evaluate accuracy of DeepFool samples after denoising \n",
        "\n",
        "print(\"DeepFool Accuracy after defence through denoising: %2f%%\" %(df_scores[1]*100))"
      ],
      "execution_count": null,
      "outputs": [
        {
          "output_type": "stream",
          "text": [
            "10000/10000 [==============================] - 0s 48us/step\n",
            "DeepFool Accuracy after defence through denoising: 97.740000%\n"
          ],
          "name": "stdout"
        }
      ]
    },
    {
      "cell_type": "code",
      "metadata": {
        "id": "6NSAW0v3NSMB",
        "colab_type": "code",
        "colab": {
          "base_uri": "https://localhost:8080/",
          "height": 132
        },
        "outputId": "6bb2873f-41e8-4648-d621-0a0f90822d62"
      },
      "source": [
        "#Show ten samples of adversarial samples after denoising\n",
        "\n",
        "n = 10 # how many digits we will display\n",
        "plt.figure(figsize=(20,4))\n",
        "for i in range(n):\n",
        "  ax=plt.subplot(1,n,i+1)\n",
        "  plt.imshow(df_attack_data_test_recons[i].reshape(28,28))\n",
        "  plt.gray()\n",
        "  ax.get_xaxis().set_visible(False)\n",
        "  ax.get_yaxis().set_visible(False)"
      ],
      "execution_count": null,
      "outputs": [
        {
          "output_type": "display_data",
          "data": {
            "image/png": "[encoded data removed]",
            "text/plain": [
              "<Figure size 1440x288 with 10 Axes>"
            ]
          },
          "metadata": {
            "tags": []
          }
        }
      ]
    }
  ]
}